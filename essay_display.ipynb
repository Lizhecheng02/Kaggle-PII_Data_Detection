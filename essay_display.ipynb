{
 "cells": [
  {
   "cell_type": "code",
   "execution_count": 1,
   "id": "be611e4f-0c9a-4976-9835-f16e5cf91dfa",
   "metadata": {
    "tags": []
   },
   "outputs": [],
   "source": [
    "import json\n",
    "import os\n",
    "import numpy as np\n",
    "import warnings\n",
    "import pandas as pd\n",
    "from IPython.display import display, HTML\n",
    "from bs4 import BeautifulSoup\n",
    "warnings.filterwarnings(\"ignore\", category=pd.errors.SettingWithCopyWarning)\n",
    "pd.set_option(\"display.max_columns\", None)\n",
    "pd.set_option(\"display.width\", 1000)\n",
    "\n",
    "\n",
    "train_json = json.load(open(os.path.join(\"./data_generation/noise-openai-faker/lzc_noise_data_1500_0206.json\")))\n",
    "train_json = json.load(open(os.path.join(\"./kaggle_dataset/competition/train.json\")))\n",
    "train = pd.json_normalize(train_json)"
   ]
  },
  {
   "cell_type": "code",
   "execution_count": 2,
   "id": "33d4fd7e-45c6-4069-bf59-5c7c16d33bdf",
   "metadata": {
    "tags": []
   },
   "outputs": [
    {
     "data": {
      "text/html": [
       "<div>\n",
       "<style scoped>\n",
       "    .dataframe tbody tr th:only-of-type {\n",
       "        vertical-align: middle;\n",
       "    }\n",
       "\n",
       "    .dataframe tbody tr th {\n",
       "        vertical-align: top;\n",
       "    }\n",
       "\n",
       "    .dataframe thead th {\n",
       "        text-align: right;\n",
       "    }\n",
       "</style>\n",
       "<table border=\"1\" class=\"dataframe\">\n",
       "  <thead>\n",
       "    <tr style=\"text-align: right;\">\n",
       "      <th></th>\n",
       "      <th>document</th>\n",
       "      <th>full_text</th>\n",
       "      <th>tokens</th>\n",
       "      <th>trailing_whitespace</th>\n",
       "      <th>labels</th>\n",
       "    </tr>\n",
       "  </thead>\n",
       "  <tbody>\n",
       "    <tr>\n",
       "      <th>0</th>\n",
       "      <td>7</td>\n",
       "      <td>Design Thinking for innovation reflexion-Avril...</td>\n",
       "      <td>[Design, Thinking, for, innovation, reflexion,...</td>\n",
       "      <td>[True, True, True, True, False, False, True, F...</td>\n",
       "      <td>[O, O, O, O, O, O, O, O, O, B-NAME_STUDENT, I-...</td>\n",
       "    </tr>\n",
       "    <tr>\n",
       "      <th>1</th>\n",
       "      <td>10</td>\n",
       "      <td>Diego Estrada\\n\\nDesign Thinking Assignment\\n\\...</td>\n",
       "      <td>[Diego, Estrada, \\n\\n, Design, Thinking, Assig...</td>\n",
       "      <td>[True, False, False, True, True, False, False,...</td>\n",
       "      <td>[B-NAME_STUDENT, I-NAME_STUDENT, O, O, O, O, O...</td>\n",
       "    </tr>\n",
       "    <tr>\n",
       "      <th>2</th>\n",
       "      <td>16</td>\n",
       "      <td>Reporting process\\n\\nby Gilberto Gamboa\\n\\nCha...</td>\n",
       "      <td>[Reporting, process, \\n\\n, by, Gilberto, Gambo...</td>\n",
       "      <td>[True, False, False, True, True, False, False,...</td>\n",
       "      <td>[O, O, O, O, B-NAME_STUDENT, I-NAME_STUDENT, O...</td>\n",
       "    </tr>\n",
       "    <tr>\n",
       "      <th>3</th>\n",
       "      <td>20</td>\n",
       "      <td>Design Thinking for Innovation\\n\\nSindy Samaca...</td>\n",
       "      <td>[Design, Thinking, for, Innovation, \\n\\n, Sind...</td>\n",
       "      <td>[True, True, True, False, False, True, False, ...</td>\n",
       "      <td>[O, O, O, O, O, B-NAME_STUDENT, I-NAME_STUDENT...</td>\n",
       "    </tr>\n",
       "    <tr>\n",
       "      <th>4</th>\n",
       "      <td>56</td>\n",
       "      <td>Assignment:  Visualization Reflection  Submitt...</td>\n",
       "      <td>[Assignment, :,   , Visualization,  , Reflecti...</td>\n",
       "      <td>[False, False, False, False, False, False, Fal...</td>\n",
       "      <td>[O, O, O, O, O, O, O, O, O, O, O, O, B-NAME_ST...</td>\n",
       "    </tr>\n",
       "  </tbody>\n",
       "</table>\n",
       "</div>"
      ],
      "text/plain": [
       "   document                                          full_text                                             tokens                                trailing_whitespace                                             labels\n",
       "0         7  Design Thinking for innovation reflexion-Avril...  [Design, Thinking, for, innovation, reflexion,...  [True, True, True, True, False, False, True, F...  [O, O, O, O, O, O, O, O, O, B-NAME_STUDENT, I-...\n",
       "1        10  Diego Estrada\\n\\nDesign Thinking Assignment\\n\\...  [Diego, Estrada, \\n\\n, Design, Thinking, Assig...  [True, False, False, True, True, False, False,...  [B-NAME_STUDENT, I-NAME_STUDENT, O, O, O, O, O...\n",
       "2        16  Reporting process\\n\\nby Gilberto Gamboa\\n\\nCha...  [Reporting, process, \\n\\n, by, Gilberto, Gambo...  [True, False, False, True, True, False, False,...  [O, O, O, O, B-NAME_STUDENT, I-NAME_STUDENT, O...\n",
       "3        20  Design Thinking for Innovation\\n\\nSindy Samaca...  [Design, Thinking, for, Innovation, \\n\\n, Sind...  [True, True, True, False, False, True, False, ...  [O, O, O, O, O, B-NAME_STUDENT, I-NAME_STUDENT...\n",
       "4        56  Assignment:  Visualization Reflection  Submitt...  [Assignment, :,   , Visualization,  , Reflecti...  [False, False, False, False, False, False, Fal...  [O, O, O, O, O, O, O, O, O, O, O, O, B-NAME_ST..."
      ]
     },
     "execution_count": 2,
     "metadata": {},
     "output_type": "execute_result"
    }
   ],
   "source": [
    "train.head()"
   ]
  },
  {
   "cell_type": "code",
   "execution_count": 3,
   "id": "01f78d67-614a-4eb6-818c-17cf2a593a9e",
   "metadata": {
    "tags": []
   },
   "outputs": [],
   "source": [
    "# Check train has one row per document\n",
    "assert train[\"document\"].nunique() == train.shape[0]"
   ]
  },
  {
   "cell_type": "code",
   "execution_count": 4,
   "id": "ae70f4af-580b-4ab0-b095-7b7f191038da",
   "metadata": {
    "tags": []
   },
   "outputs": [],
   "source": [
    "full_ner_labels = [\n",
    "    \"B-NAME_STUDENT\", \"I-NAME_STUDENT\",\n",
    "    \"B-URL_PERSONAL\", \"I-URL_PERSONAL\",\n",
    "    \"B-ID_NUM\", \"I-ID_NUM\",\n",
    "    \"B-EMAIL\", \"I-EMAIL\",\n",
    "    \"B-STREET_ADDRESS\", \"I-STREET_ADDRESS\",\n",
    "    \"B-PHONE_NUM\", \"I-PHONE_NUM\",\n",
    "    \"B-USERNAME\", \"I-USERNAME\"\n",
    "]"
   ]
  },
  {
   "cell_type": "code",
   "execution_count": 5,
   "id": "626b791a-2bd1-4681-8227-2b0dfca97caf",
   "metadata": {
    "tags": []
   },
   "outputs": [],
   "source": [
    "train_eda = train.copy()\n",
    "# Find documnets with high number of entities\n",
    "train_eda[\"ner_labels\"] = train_eda[\"labels\"].apply(lambda x: [item for item in x if item != \"O\"])\n",
    "train_eda[\"count_ner_labels\"] = train_eda[\"ner_labels\"].apply(len)\n",
    "train_eda[\"count_distinct_ner_labels\"] = train_eda[\"ner_labels\"].apply(lambda x: len(set(x)))\n",
    "train_eda.sort_values(by=\"count_distinct_ner_labels\", inplace=True, ascending=False)\n",
    "\n",
    "exploded_df = train_eda[\"ner_labels\"].explode()\n",
    "dummies = pd.get_dummies(exploded_df).reset_index()\n",
    "\n",
    "frequency = dummies.sum().sort_values(ascending=False)\n",
    "ordered_columns = frequency.index.tolist()\n",
    "ordered_columns.remove(\"index\")\n",
    "\n",
    "counted = dummies.groupby(\"index\").sum()\n",
    "counted = counted.reindex(columns=full_ner_labels, fill_value=0)\n",
    "counted = counted[ordered_columns + [i for i in full_ner_labels if i not in ordered_columns]]\n",
    "\n",
    "train_eda = train_eda.join(counted)"
   ]
  },
  {
   "cell_type": "code",
   "execution_count": 6,
   "id": "f4946f50-eb22-4fcc-a3a0-63813874d48a",
   "metadata": {
    "tags": []
   },
   "outputs": [],
   "source": [
    "ner_colors = {\n",
    "    \"B-NAME_STUDENT\": \"rgb(255, 179, 179)\",\n",
    "    \"I-NAME_STUDENT\": \"rgb(139, 0, 0)\",\n",
    "    \"B-URL_PERSONAL\": \"rgb(255, 223, 179)\",\n",
    "    \"I-URL_PERSONAL\": \"rgb(255, 140, 0)\",\n",
    "    \"B-ID_NUM\": \"rgb((255, 43, 46)\",\n",
    "    \"I-ID_NUM\":  \"rgb(204, 153, 89)\",\n",
    "    \"B-EMAIL\": \"rgb(179, 255, 179)\",\n",
    "    \"I-EMAIL\": \"rgb(0, 100, 0)\",\n",
    "    \"B-STREET_ADDRESS\":  \"rgb(179, 223, 255)\",\n",
    "    \"I-STREET_ADDRESS\": \"rgb(204, 51, 255)\",\n",
    "    \"B-PHONE_NUM\": \"rgb(223, 179, 255)\",\n",
    "    \"I-PHONE_NUM\": \"rgb(75, 0, 130)\",\n",
    "    \"B-USERNAME\": \"rgb(255, 179, 223)\",\n",
    "    \"I-USERNAME\": \"rgb(231, 84, 128)\",\n",
    "}\n",
    "\n",
    "\n",
    "def generate_legend():\n",
    "    legend_html = \"<div class='legend' style='margin-bottom: 10px;'>\"\n",
    "    for entity, color in ner_colors.items():\n",
    "        legend_html += f\"<span style='color: {color}; margin-right: 10px;'>{entity}</span>\"\n",
    "    legend_html += \"</div>\"\n",
    "    return legend_html\n",
    "\n",
    "\n",
    "def highlight_entities(text, tokens, labels):\n",
    "    legend = generate_legend()  # Generate the legend\n",
    "    soup = BeautifulSoup(legend, \"html.parser\")  # Start with the legend\n",
    "\n",
    "    last_idx = 0\n",
    "    for token, label in zip(tokens, labels):\n",
    "        start, end = text.find(token, last_idx), text.find(\n",
    "            token, last_idx) + len(token)\n",
    "\n",
    "        if start != -1:\n",
    "            soup.append(BeautifulSoup(text[last_idx:start], \"html.parser\"))\n",
    "\n",
    "            if label != \"O\":\n",
    "                token_span = soup.new_tag(\"span\", style=f\"background-color: {ner_colors.get(label, 'black')}; font-family: 'Tahoma'; padding: 0 2px; border-radius: 3px;\")\n",
    "                token_span.string = token\n",
    "                soup.append(token_span)\n",
    "\n",
    "                label_span = soup.new_tag(\"span\", style=f\"background-color: {ner_colors.get(label, 'black')}; font-family: 'Tahoma'; font-weight: bold; padding: 0 2px; border-radius: 3px;\")\n",
    "                label_span.string = f\" [{label}]\"\n",
    "                soup.append(label_span)\n",
    "            else:\n",
    "                soup.append(token)\n",
    "\n",
    "            last_idx = end\n",
    "\n",
    "    soup.append(BeautifulSoup(text[last_idx:], \"html.parser\"))\n",
    "    return str(soup).replace(\"\\n\", \"<br/>\")\n",
    "\n",
    "\n",
    "def label_color(label):\n",
    "    return ner_colors.get(label, \"black\")  # Default color"
   ]
  },
  {
   "cell_type": "code",
   "execution_count": 7,
   "id": "68aace6f-feda-4a39-9e59-a39e0d547756",
   "metadata": {
    "tags": []
   },
   "outputs": [],
   "source": [
    "sample_train = train_eda.copy()"
   ]
  },
  {
   "cell_type": "code",
   "execution_count": 8,
   "id": "da8c3623-f2d1-44a3-86c1-57ffc1bbacbf",
   "metadata": {
    "tags": []
   },
   "outputs": [],
   "source": [
    "sample_train.loc[:, \"html\"] = sample_train.apply(lambda x: highlight_entities(x[\"full_text\"], x[\"tokens\"], x[\"labels\"]), axis=1)"
   ]
  },
  {
   "cell_type": "code",
   "execution_count": 9,
   "id": "12bb1726-1035-4956-861b-545faca7042a",
   "metadata": {
    "tags": []
   },
   "outputs": [],
   "source": [
    "df = train[[\"document\", \"tokens\", \"labels\"]].copy()\n",
    "df = df.explode([\"tokens\", \"labels\"]).reset_index(drop=True).rename(columns={\"tokens\": \"token\", \"labels\": \"label\"})\n",
    "df[\"token_str\"] = df[\"token\"]\n",
    "df[\"token\"] = df.groupby(\"document\").cumcount()\n",
    "\n",
    "label_list = df[\"label\"].unique().tolist()\n",
    "\n",
    "reference_df = df[df[\"label\"] != \"O\"].copy()\n",
    "reference_df = reference_df.reset_index().rename(columns={\"index\": \"row_id\"})\n",
    "reference_df = reference_df[[\"row_id\", \"document\", \"token\", \"label\", \"token_str\"]].copy()"
   ]
  },
  {
   "cell_type": "code",
   "execution_count": 10,
   "id": "05da3702-e186-4864-8d16-db2212f7b377",
   "metadata": {
    "tags": []
   },
   "outputs": [
    {
     "data": {
      "text/html": [
       "<div>\n",
       "<style scoped>\n",
       "    .dataframe tbody tr th:only-of-type {\n",
       "        vertical-align: middle;\n",
       "    }\n",
       "\n",
       "    .dataframe tbody tr th {\n",
       "        vertical-align: top;\n",
       "    }\n",
       "\n",
       "    .dataframe thead th {\n",
       "        text-align: right;\n",
       "    }\n",
       "</style>\n",
       "<table border=\"1\" class=\"dataframe\">\n",
       "  <thead>\n",
       "    <tr style=\"text-align: right;\">\n",
       "      <th></th>\n",
       "      <th>row_id</th>\n",
       "      <th>document</th>\n",
       "      <th>token</th>\n",
       "      <th>label</th>\n",
       "      <th>token_str</th>\n",
       "    </tr>\n",
       "  </thead>\n",
       "  <tbody>\n",
       "    <tr>\n",
       "      <th>2737</th>\n",
       "      <td>3889615</td>\n",
       "      <td>19280</td>\n",
       "      <td>55</td>\n",
       "      <td>I-ID_NUM</td>\n",
       "      <td>30407059</td>\n",
       "    </tr>\n",
       "  </tbody>\n",
       "</table>\n",
       "</div>"
      ],
      "text/plain": [
       "       row_id  document  token     label token_str\n",
       "2737  3889615     19280     55  I-ID_NUM  30407059"
      ]
     },
     "execution_count": 10,
     "metadata": {},
     "output_type": "execute_result"
    }
   ],
   "source": [
    "reference_df.query(\"label == 'I-ID_NUM'\")"
   ]
  },
  {
   "cell_type": "code",
   "execution_count": 11,
   "id": "d3d9dd12-c37b-4745-9499-1ab81622b4c4",
   "metadata": {
    "tags": []
   },
   "outputs": [],
   "source": [
    "def f(doc):\n",
    "    idx = sample_train.query(\"document == @doc\").index[0]\n",
    "    display(HTML(sample_train.loc[idx, \"html\"]))"
   ]
  },
  {
   "cell_type": "code",
   "execution_count": 12,
   "id": "e6d30ca5-9c07-4e6b-acc5-a549a9c893ef",
   "metadata": {
    "tags": []
   },
   "outputs": [
    {
     "data": {
      "text/html": [
       "<div class=\"legend\" style=\"margin-bottom: 10px;\"><span style=\"color: rgb(255, 179, 179); margin-right: 10px;\">B-NAME_STUDENT</span><span style=\"color: rgb(139, 0, 0); margin-right: 10px;\">I-NAME_STUDENT</span><span style=\"color: rgb(255, 223, 179); margin-right: 10px;\">B-URL_PERSONAL</span><span style=\"color: rgb(255, 140, 0); margin-right: 10px;\">I-URL_PERSONAL</span><span style=\"color: rgb((255, 43, 46); margin-right: 10px;\">B-ID_NUM</span><span style=\"color: rgb(204, 153, 89); margin-right: 10px;\">I-ID_NUM</span><span style=\"color: rgb(179, 255, 179); margin-right: 10px;\">B-EMAIL</span><span style=\"color: rgb(0, 100, 0); margin-right: 10px;\">I-EMAIL</span><span style=\"color: rgb(179, 223, 255); margin-right: 10px;\">B-STREET_ADDRESS</span><span style=\"color: rgb(204, 51, 255); margin-right: 10px;\">I-STREET_ADDRESS</span><span style=\"color: rgb(223, 179, 255); margin-right: 10px;\">B-PHONE_NUM</span><span style=\"color: rgb(75, 0, 130); margin-right: 10px;\">I-PHONE_NUM</span><span style=\"color: rgb(255, 179, 223); margin-right: 10px;\">B-USERNAME</span><span style=\"color: rgb(231, 84, 128); margin-right: 10px;\">I-USERNAME</span></div>Learning Launch based on Design Thinking for Innovation<br/><br/>Delivering Workplace Risk Assessment based on Health and Safety protocols; Carried out in compliance to the Industry International Best Practice; and  Targeting a multicultural team in a dynamic fast peace environment; within Technical and Artistic Theatre and Performing Art division<br/><br/><span style=\"background-color: rgb((255, 43, 46); font-family: 'Tahoma'; padding: 0 2px; border-radius: 3px;\">Z.S.</span><span style=\"background-color: rgb((255, 43, 46); font-family: 'Tahoma'; font-weight: bold; padding: 0 2px; border-radius: 3px;\"> [B-ID_NUM]</span> <span style=\"background-color: rgb(204, 153, 89); font-family: 'Tahoma'; padding: 0 2px; border-radius: 3px;\">30407059</span><span style=\"background-color: rgb(204, 153, 89); font-family: 'Tahoma'; font-weight: bold; padding: 0 2px; border-radius: 3px;\"> [I-ID_NUM]</span><br/><br/>Challenge<br/><br/>Working in the Technical and Artistic Theatre and Performing Art as manager of the department the safety of our crew, artists and Guest is core priority goal to everyone. When at an international Corporate and large scale company, the team running the department is often composed by people from different origins and culture. Especially because of this the operations must be heavily focused on constantly enhance then auditing the safety culture of your department.<br/><br/>My challenge was to be able to rely on every singular team member (technical or artistic) to execute any task based on safety standard in the way it was designed in the company risk assessment database. However, not everyone will be perceiving the safety duties in the same way cause different background and education may lead in an individual nonperforming well certain task assigned. Example, a Stage Manager supervising a rigging operation on stage having his both hands in the pocket showing wrong body language despite of his authoritative presence. While the European standard of best practice at workplace will not allow this body language, certain Asian relaxed cultures will have a different peace and my contemplate such attitude on body language when performing a safety supervision at work.<br/><br/>Selection<br/><br/>I decided to run a human-centered inside training using a simulated learning lunch scenario. I have created a weekly learning lunch appointment with the team (called also a drill) where a group of selected crew members from different nationality where appointed to read a specific chosen Risk Assessment topic in front the rest of the team in the auditorium. In order to proper aligning team members’ perspectives when working under a safety culture regime, I have released formalities asking them to explain one by one the content of the chosen Risk Assessment topic by building emotional engagement. Laughing was fully allowed too!<br/><br/>Application<br/><br/>I encourage the selected group to act as they were sort of actors (and not engineers for once) using their body language and storytelling to deliver the content of the safety precaution listed on the risk assessment paper given to them (I previously printed). A copy of the formal risk assessment and listed precautions was delivered to every team member in the house too. I place the group on stage (using zero formalities) and the rest of the team was in the house. The goal was to shown a specific safety scenario on stage and deliver the safety message from the risk assessment. The message of how to reduce a risk when doing a certain task. Once all the listed precautions were decently interpreted on stage by the group to the audience (the rest of the team), the group returned into the house to rejoin their colleagues. An open discussion then was triggered, to the point that every one could memories the precautions shown on stage in a funny way, to remember these rules for long time. At the same time I stepped in the conversations whenever there was the possibility to spot ah-hock  comments  by  a  member  based  on  capabilities  to  solve  new  safety  problems  in  the  future  building  new  solutions.<br/><br/>Insight<br/><br/>The formation of heterogeneous teams was a key goal for me considering the diversification in nationalities. Delivering an onstage act of the formal safety precautions rules have made the whole team feeling as a united family entity allowed the building of alignment across differences. The mixed group on stage was expanding repertoire of meaning, feelings, accountabilities with a sense of humor towards the rest of the group watching the act from the audience prospective. The content of the risk assessment precaution list was delivered fully pursuing the goal of training the whole team on safety best practice and time allowing emergent solutions for potential new safety challenge.<br/><br/>Approach<br/><br/>As a manager my real goal was creating a social awareness, encouraging a learning mindset and increasing psychological group safety. I was keen to attract and spot champions which will lead the future the department in key operational segments. In the future I may want to teak this Learning Launch event by involving more key stakeholders as participant example could be inviting housekeeping department or medical team representatives. This will allow the “work together” culture in the department for a higher quality of Safety culture at work.<br/><br/>"
      ],
      "text/plain": [
       "<IPython.core.display.HTML object>"
      ]
     },
     "metadata": {},
     "output_type": "display_data"
    }
   ],
   "source": [
    "f(19280)"
   ]
  }
 ],
 "metadata": {
  "kernelspec": {
   "display_name": "Python 3 (ipykernel)",
   "language": "python",
   "name": "python3"
  },
  "language_info": {
   "codemirror_mode": {
    "name": "ipython",
    "version": 3
   },
   "file_extension": ".py",
   "mimetype": "text/x-python",
   "name": "python",
   "nbconvert_exporter": "python",
   "pygments_lexer": "ipython3",
   "version": "3.10.9"
  }
 },
 "nbformat": 4,
 "nbformat_minor": 5
}
