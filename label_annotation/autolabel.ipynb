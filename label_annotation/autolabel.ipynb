{
 "cells": [
  {
   "cell_type": "code",
   "execution_count": null,
   "id": "8a30e3c2-8e01-478a-a19e-3bf094ce8513",
   "metadata": {
    "ExecuteTime": {
     "end_time": "2024-01-31T02:27:52.781961Z",
     "start_time": "2024-01-31T02:27:52.752799Z"
    }
   },
   "outputs": [],
   "source": [
    "import json\n",
    "import requests\n",
    "import json\n",
    "from autolabel import LabelingAgent, AutolabelDataset\n",
    "import openai\n",
    "import json\n",
    "import os\n",
    "\n",
    "os.environ[\"OPENAI_API_KEY\"] = \"xxx\""
   ]
  },
  {
   "cell_type": "code",
   "execution_count": null,
   "id": "5dc69b32-3e45-4a34-8cba-65756f2ecd0f",
   "metadata": {
    "ExecuteTime": {
     "end_time": "2024-01-31T02:27:55.629316Z",
     "start_time": "2024-01-31T02:27:53.378731Z"
    }
   },
   "outputs": [],
   "source": [
    "config = {\n",
    "    \"task_name\": \"PII_NER\",\n",
    "    \"task_type\": \"named_entity_recognition\",\n",
    "    \"dataset\": {\n",
    "        \"label_column\": \"labels\",\n",
    "        \"text_column\": \"full_text\",\n",
    "    },\n",
    "    \"model\": {\n",
    "        \"provider\": \"openai\",\n",
    "        \"name\": \"gpt-3.5-turbo-0125\",\n",
    "    },\n",
    "    \"prompt\": {\n",
    "        \"task_guidelines\": \"You are an expert at extracting NAME entities from text. Your job is to extract named entities mentioned in text, and classify them into one of the following categories.\\nCategories:\\n{labels}\\n\",\n",
    "        \"labels\": [\n",
    "            \"B-NAME\",\n",
    "            \"I-NAME\"\n",
    "        ],\n",
    "        \"few_shot_examples\": \"\",\n",
    "        \"example_template\": \"Example: {full_text}\\nTokens: {tokens}\\nOutput: {labels}\",\n",
    "        \"few_shot_selection\": \"semantic_similarity\",\n",
    "        \"few_shot_num\": 0\n",
    "    }\n",
    "}"
   ]
  },
  {
   "cell_type": "code",
   "execution_count": null,
   "id": "5eaff00d-7868-4537-96b6-563a090d90f4",
   "metadata": {
    "ExecuteTime": {
     "end_time": "2024-01-31T02:27:57.393109Z",
     "start_time": "2024-01-31T02:27:56.970766Z"
    },
    "tags": []
   },
   "outputs": [],
   "source": [
    "agent = LabelingAgent(config)\n",
    "ds = AutolabelDataset(\"\", config=config)\n",
    "agent.plan(ds, max_items=50)"
   ]
  },
  {
   "cell_type": "code",
   "execution_count": null,
   "id": "179211fe-1bef-426a-b22f-663d603108d8",
   "metadata": {
    "ExecuteTime": {
     "end_time": "2024-01-31T02:28:02.644349Z",
     "start_time": "2024-01-31T02:28:01.640923Z"
    }
   },
   "outputs": [],
   "source": [
    "agent.run(ds, max_items=100, output_name=\"\", skip_eval=True)"
   ]
  }
 ],
 "metadata": {
  "kernelspec": {
   "display_name": "base",
   "language": "python",
   "name": "python3"
  },
  "language_info": {
   "codemirror_mode": {
    "name": "ipython",
    "version": 3
   },
   "file_extension": ".py",
   "mimetype": "text/x-python",
   "name": "python",
   "nbconvert_exporter": "python",
   "pygments_lexer": "ipython3",
   "version": "3.10.9"
  }
 },
 "nbformat": 4,
 "nbformat_minor": 5
}
