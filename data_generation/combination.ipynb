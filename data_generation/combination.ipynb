{
 "cells": [
  {
   "cell_type": "code",
   "execution_count": 1,
   "metadata": {},
   "outputs": [],
   "source": [
    "import os\n",
    "import json\n",
    "import pandas as pd"
   ]
  },
  {
   "cell_type": "code",
   "execution_count": 2,
   "metadata": {},
   "outputs": [],
   "source": [
    "df1 = pd.read_json('../kaggle_notebook/gpt-faker/more_data1.json')\n",
    "df2 = pd.read_json('../kaggle_notebook/gpt-faker/more_data2.json')\n",
    "df3 = pd.read_json('../kaggle_notebook/gpt-faker/more_data3.json')\n",
    "df = pd.concat([df1, df2, df3])\n",
    "df.reset_index(drop=True, inplace=True)\n",
    "\n",
    "output_file = \"../kaggle_notebook/gpt-faker/more_data_merged.json\"\n",
    "df.to_json(output_file, orient=\"records\")"
   ]
  }
 ],
 "metadata": {
  "kernelspec": {
   "display_name": "base",
   "language": "python",
   "name": "python3"
  },
  "language_info": {
   "codemirror_mode": {
    "name": "ipython",
    "version": 3
   },
   "file_extension": ".py",
   "mimetype": "text/x-python",
   "name": "python",
   "nbconvert_exporter": "python",
   "pygments_lexer": "ipython3",
   "version": "3.10.9"
  }
 },
 "nbformat": 4,
 "nbformat_minor": 2
}
