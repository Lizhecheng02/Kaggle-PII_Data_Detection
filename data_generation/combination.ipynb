{
 "cells": [
  {
   "cell_type": "code",
   "execution_count": 1,
   "metadata": {},
   "outputs": [],
   "source": [
    "import os\n",
    "import json\n",
    "import pandas as pd"
   ]
  },
  {
   "cell_type": "code",
   "execution_count": 2,
   "metadata": {},
   "outputs": [
    {
     "name": "stdout",
     "output_type": "stream",
     "text": [
      "(1999, 5)\n"
     ]
    }
   ],
   "source": [
    "df1 = pd.read_json(\"./noise-openai-faker/noise_data_test1.json\")\n",
    "df2 = pd.read_json(\"./noise-openai-faker/noise_data_test2.json\")\n",
    "df3 = pd.read_json(\"./noise-openai-faker/noise_data_test3.json\")\n",
    "df4 = pd.read_json(\"./noise-openai-faker/noise_data_test4.json\")\n",
    "df = pd.concat([df1, df2, df3, df4])\n",
    "\n",
    "\n",
    "def check_labels(label_list):\n",
    "    return \"I-EMAIL\" not in label_list and \"I-USERNAME\" not in label_list\n",
    "\n",
    "\n",
    "df = df[df[\"labels\"].apply(check_labels)]\n",
    "\n",
    "df.reset_index(drop=True, inplace=True)\n",
    "print(df.shape)\n",
    "\n",
    "output_file = \"./noise-openai-faker/lzc_noise_data_2000_0214.json\"\n",
    "df.to_json(output_file, orient=\"records\")"
   ]
  }
 ],
 "metadata": {
  "kernelspec": {
   "display_name": "base",
   "language": "python",
   "name": "python3"
  },
  "language_info": {
   "codemirror_mode": {
    "name": "ipython",
    "version": 3
   },
   "file_extension": ".py",
   "mimetype": "text/x-python",
   "name": "python",
   "nbconvert_exporter": "python",
   "pygments_lexer": "ipython3",
   "version": "3.10.9"
  }
 },
 "nbformat": 4,
 "nbformat_minor": 2
}
