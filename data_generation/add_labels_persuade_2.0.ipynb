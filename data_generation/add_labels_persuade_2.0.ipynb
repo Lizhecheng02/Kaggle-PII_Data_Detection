{
 "cells": [
  {
   "cell_type": "code",
   "execution_count": 1,
   "metadata": {},
   "outputs": [
    {
     "name": "stdout",
     "output_type": "stream",
     "text": [
      "WARNING:tensorflow:From c:\\Users\\86183\\anaconda3\\lib\\site-packages\\keras\\src\\losses.py:2976: The name tf.losses.sparse_softmax_cross_entropy is deprecated. Please use tf.compat.v1.losses.sparse_softmax_cross_entropy instead.\n",
      "\n"
     ]
    }
   ],
   "source": [
    "import pandas as pd\n",
    "import matplotlib.pyplot as plt\n",
    "import os\n",
    "import random\n",
    "import time \n",
    "import spacy\n",
    "\n",
    "from tqdm import tqdm\n",
    "from openai import OpenAI"
   ]
  },
  {
   "cell_type": "code",
   "execution_count": 2,
   "metadata": {},
   "outputs": [],
   "source": [
    "VERSION = 0"
   ]
  },
  {
   "cell_type": "code",
   "execution_count": 3,
   "metadata": {},
   "outputs": [
    {
     "data": {
      "text/html": [
       "<div>\n",
       "<style scoped>\n",
       "    .dataframe tbody tr th:only-of-type {\n",
       "        vertical-align: middle;\n",
       "    }\n",
       "\n",
       "    .dataframe tbody tr th {\n",
       "        vertical-align: top;\n",
       "    }\n",
       "\n",
       "    .dataframe thead th {\n",
       "        text-align: right;\n",
       "    }\n",
       "</style>\n",
       "<table border=\"1\" class=\"dataframe\">\n",
       "  <thead>\n",
       "    <tr style=\"text-align: right;\">\n",
       "      <th></th>\n",
       "      <th>essay_id_comp</th>\n",
       "      <th>full_text</th>\n",
       "      <th>holistic_essay_score</th>\n",
       "      <th>word_count</th>\n",
       "      <th>prompt_name</th>\n",
       "      <th>task</th>\n",
       "      <th>assignment</th>\n",
       "      <th>source_text</th>\n",
       "      <th>gender</th>\n",
       "      <th>grade_level</th>\n",
       "      <th>ell_status</th>\n",
       "      <th>race_ethnicity</th>\n",
       "      <th>economically_disadvantaged</th>\n",
       "      <th>student_disability_status</th>\n",
       "    </tr>\n",
       "  </thead>\n",
       "  <tbody>\n",
       "    <tr>\n",
       "      <th>0</th>\n",
       "      <td>423A1CA112E2</td>\n",
       "      <td>Phones\\n\\nModern humans today are always on th...</td>\n",
       "      <td>3</td>\n",
       "      <td>378</td>\n",
       "      <td>Phones and driving</td>\n",
       "      <td>Independent</td>\n",
       "      <td>Today the majority of humans own and operate c...</td>\n",
       "      <td>NaN</td>\n",
       "      <td>M</td>\n",
       "      <td>NaN</td>\n",
       "      <td>NaN</td>\n",
       "      <td>Black/African American</td>\n",
       "      <td>NaN</td>\n",
       "      <td>NaN</td>\n",
       "    </tr>\n",
       "    <tr>\n",
       "      <th>1</th>\n",
       "      <td>BC75783F96E3</td>\n",
       "      <td>This essay will explain if drivers should or s...</td>\n",
       "      <td>4</td>\n",
       "      <td>432</td>\n",
       "      <td>Phones and driving</td>\n",
       "      <td>Independent</td>\n",
       "      <td>Today the majority of humans own and operate c...</td>\n",
       "      <td>NaN</td>\n",
       "      <td>M</td>\n",
       "      <td>NaN</td>\n",
       "      <td>NaN</td>\n",
       "      <td>Black/African American</td>\n",
       "      <td>NaN</td>\n",
       "      <td>NaN</td>\n",
       "    </tr>\n",
       "    <tr>\n",
       "      <th>2</th>\n",
       "      <td>74C8BC7417DE</td>\n",
       "      <td>Driving while the use of cellular devices\\n\\nT...</td>\n",
       "      <td>2</td>\n",
       "      <td>179</td>\n",
       "      <td>Phones and driving</td>\n",
       "      <td>Independent</td>\n",
       "      <td>Today the majority of humans own and operate c...</td>\n",
       "      <td>NaN</td>\n",
       "      <td>F</td>\n",
       "      <td>NaN</td>\n",
       "      <td>NaN</td>\n",
       "      <td>White</td>\n",
       "      <td>NaN</td>\n",
       "      <td>NaN</td>\n",
       "    </tr>\n",
       "    <tr>\n",
       "      <th>3</th>\n",
       "      <td>A8445CABFECE</td>\n",
       "      <td>Phones &amp; Driving\\n\\nDrivers should not be able...</td>\n",
       "      <td>3</td>\n",
       "      <td>221</td>\n",
       "      <td>Phones and driving</td>\n",
       "      <td>Independent</td>\n",
       "      <td>Today the majority of humans own and operate c...</td>\n",
       "      <td>NaN</td>\n",
       "      <td>M</td>\n",
       "      <td>NaN</td>\n",
       "      <td>NaN</td>\n",
       "      <td>Black/African American</td>\n",
       "      <td>NaN</td>\n",
       "      <td>NaN</td>\n",
       "    </tr>\n",
       "    <tr>\n",
       "      <th>4</th>\n",
       "      <td>6B4F7A0165B9</td>\n",
       "      <td>Cell Phone Operation While Driving\\n\\nThe abil...</td>\n",
       "      <td>4</td>\n",
       "      <td>334</td>\n",
       "      <td>Phones and driving</td>\n",
       "      <td>Independent</td>\n",
       "      <td>Today the majority of humans own and operate c...</td>\n",
       "      <td>NaN</td>\n",
       "      <td>M</td>\n",
       "      <td>NaN</td>\n",
       "      <td>NaN</td>\n",
       "      <td>White</td>\n",
       "      <td>NaN</td>\n",
       "      <td>NaN</td>\n",
       "    </tr>\n",
       "  </tbody>\n",
       "</table>\n",
       "</div>"
      ],
      "text/plain": [
       "  essay_id_comp                                          full_text  \\\n",
       "0  423A1CA112E2  Phones\\n\\nModern humans today are always on th...   \n",
       "1  BC75783F96E3  This essay will explain if drivers should or s...   \n",
       "2  74C8BC7417DE  Driving while the use of cellular devices\\n\\nT...   \n",
       "3  A8445CABFECE  Phones & Driving\\n\\nDrivers should not be able...   \n",
       "4  6B4F7A0165B9  Cell Phone Operation While Driving\\n\\nThe abil...   \n",
       "\n",
       "   holistic_essay_score  word_count         prompt_name         task  \\\n",
       "0                     3         378  Phones and driving  Independent   \n",
       "1                     4         432  Phones and driving  Independent   \n",
       "2                     2         179  Phones and driving  Independent   \n",
       "3                     3         221  Phones and driving  Independent   \n",
       "4                     4         334  Phones and driving  Independent   \n",
       "\n",
       "                                          assignment source_text gender  \\\n",
       "0  Today the majority of humans own and operate c...         NaN      M   \n",
       "1  Today the majority of humans own and operate c...         NaN      M   \n",
       "2  Today the majority of humans own and operate c...         NaN      F   \n",
       "3  Today the majority of humans own and operate c...         NaN      M   \n",
       "4  Today the majority of humans own and operate c...         NaN      M   \n",
       "\n",
       "   grade_level ell_status          race_ethnicity economically_disadvantaged  \\\n",
       "0          NaN        NaN  Black/African American                        NaN   \n",
       "1          NaN        NaN  Black/African American                        NaN   \n",
       "2          NaN        NaN                   White                        NaN   \n",
       "3          NaN        NaN  Black/African American                        NaN   \n",
       "4          NaN        NaN                   White                        NaN   \n",
       "\n",
       "  student_disability_status  \n",
       "0                       NaN  \n",
       "1                       NaN  \n",
       "2                       NaN  \n",
       "3                       NaN  \n",
       "4                       NaN  "
      ]
     },
     "execution_count": 3,
     "metadata": {},
     "output_type": "execute_result"
    }
   ],
   "source": [
    "df = pd.read_csv('../persuade_2.0_human.csv')\n",
    "df.head()"
   ]
  },
  {
   "cell_type": "code",
   "execution_count": 4,
   "metadata": {},
   "outputs": [],
   "source": [
    "df = df[VERSION * 1000:min((VERSION + 1) * 1000, len(df))]"
   ]
  },
  {
   "cell_type": "code",
   "execution_count": 5,
   "metadata": {},
   "outputs": [],
   "source": [
    "os.environ['OPENAI_API_KEY'] = ''\n",
    "client = OpenAI()"
   ]
  },
  {
   "cell_type": "code",
   "execution_count": 6,
   "metadata": {},
   "outputs": [],
   "source": [
    "def generate_text(model_input, idx):\n",
    "    messages = [\n",
    "        {\n",
    "            'role': 'user',\n",
    "            'content': model_input\n",
    "        }\n",
    "    ]\n",
    "\n",
    "    random_temperature = random.uniform(0.0, 1.0)\n",
    "    random_top_p = random.uniform(0.9, 1.0)\n",
    "\n",
    "    flag = False\n",
    "\n",
    "    for attempt in range(5):\n",
    "        try:\n",
    "            response = client.chat.completions.create(\n",
    "                model='gpt-4-1106-preview',\n",
    "                messages=messages,\n",
    "                max_tokens=4096,\n",
    "                frequency_penalty=1.12,\n",
    "                temperature=random_temperature,\n",
    "                top_p=random_top_p\n",
    "            )\n",
    "            output = response.choices[0].message.content\n",
    "            flag = True\n",
    "            print(f'Generated Successfully on Idx-{idx}!!!')\n",
    "            return output\n",
    "            break\n",
    "        except Exception as e:\n",
    "            print(f'Attempt {attempt + 1} on Idx-{idx} Failed: {e}')\n",
    "            time.sleep(1)\n",
    "\n",
    "    if flag == False:\n",
    "        print(f'Idx-{idx} Failed at Last')\n",
    "        return None"
   ]
  },
  {
   "cell_type": "code",
   "execution_count": 7,
   "metadata": {},
   "outputs": [
    {
     "name": "stdout",
     "output_type": "stream",
     "text": [
      "The file piidd_dataset_0.csv exists.\n"
     ]
    }
   ],
   "source": [
    "file_name = f\"piidd_dataset_{VERSION}.csv\"\n",
    "\n",
    "if os.path.exists(file_name):\n",
    "    print(f\"The file {file_name} exists.\")\n",
    "    save_df = pd.read_csv(file_name)\n",
    "else:\n",
    "    print(f\"The file {file_name} does not exist.\")\n",
    "    save_df = pd.DataFrame(columns=[\"full_text\"])\n",
    "    save_df.to_csv(f\"piidd_dataset_{VERSION}.csv\", index=False)"
   ]
  },
  {
   "cell_type": "code",
   "execution_count": 8,
   "metadata": {},
   "outputs": [
    {
     "name": "stderr",
     "output_type": "stream",
     "text": [
      "  0%|          | 0/1000 [00:00<?, ?it/s]"
     ]
    },
    {
     "name": "stdout",
     "output_type": "stream",
     "text": [
      "\n",
      "It is known that there are currently seven main types of PII (Personally Identifiable Information):\n",
      "(1) NAME_STUDENT - The full or partial name of a student that is not necessarily the author of the essay. This excludes instructors, authors, and other person names.\n",
      "(2) EMAIL - A student's email address.\n",
      "(3) USERNAME - A student's username on any platform.\n",
      "(4) ID_NUM - A number or sequence of characters that could be used to identify a student, such as a student ID or a social security number.\n",
      "(5) PHONE_NUM - A phone number associated with a student.\n",
      "(6) URL_PERSONAL - A URL that might be used to identify a student.\n",
      "(7) STREET_ADDRESS - A full or partial street address that is associated with the student, such as their home address.\n",
      "\n",
      "Now I will give you an article, and you need to complete the following tasks:\n",
      "(1) Add information related to the aforementioned seven tags into the article. This information must be relevant to individual students while still maintaining the article's coherence, fluidity, readability and core theme.\n",
      "(2) Replace the newly added relevant information with real data.\n",
      "(3) You only need to return the revised article; do not include any extraneous content before or after the article.\n",
      "(4) Enclose the newly added content with tags before and after, for example: [NAME_STUDENT]James Jones[NAME_STUDENT].\n",
      "(5) Suppose the original text already contains information related to the seven tags; you also need to enclose them with tags as per requirement (4).\n",
      "(6) The positional distribution of different labels should be average in the whole article.\n",
      "(7) Do not forcibly add a label, all content must be reasonable.\n",
      "(8) The article must not contain grammatical errors or misspellings.\n",
      "\n",
      "Article:\n",
      "    \n",
      "Phones\n",
      "\n",
      "Modern humans today are always on their phone. They are always on their phone more than 5 hours a day no stop .All they do is text back and forward and just have group Chats on social media. They even do it while driving. They are some really bad consequences when stuff happens when it comes to a phone. Some certain areas in the United States ban phones from class rooms just because of it.\n",
      "\n",
      "When people have phones, they know about certain apps that they have .Apps like Facebook Twitter Instagram and Snapchat. So like if a friend moves away and you want to be in contact you can still be in contact by posting videos or text messages. People always have different ways how to communicate with a phone. Phones have changed due to our generation.\n",
      "\n",
      "Driving is one of the way how to get around. People always be on their phones while doing it. Which can cause serious Problems. That's why there's a thing that's called no texting while driving. That's a really important thing to remember. Some people still do it because they think It's stupid. No matter what they do they still have to obey it because that's the only way how did he save.\n",
      "\n",
      "Sometimes on the news there is either an accident or a suicide. It might involve someone not looking where they're going or tweet that someone sent. It either injury or death. If a mysterious number says I'm going to kill you and they know where you live but you don't know the person's contact ,It makes you puzzled and make you start to freak out. Which can end up really badly.\n",
      "\n",
      "Phones are fine to use and it's also the best way to come over help. If you go through a problem and you can't find help you ,always have a phone there with you. Even though phones are used almost every day as long as you're safe it would come into use if you get into trouble. Make sure you do not be like this phone while you're in the middle of driving. The news always updated when people do something stupid around that involves their phones. The safest way is the best way to stay safe.    \n"
     ]
    },
    {
     "name": "stderr",
     "output_type": "stream",
     "text": [
      "  0%|          | 0/1000 [00:34<?, ?it/s]"
     ]
    },
    {
     "name": "stdout",
     "output_type": "stream",
     "text": [
      "Generated Successfully on Idx-0!!!\n",
      "Phones\n",
      "\n",
      "Modern humans today are always on their phone. [NAME_STUDENT]Sarah Thompson[NAME_STUDENT] noticed her peers are often engaged with their phones for more than 5 hours a day non-stop. All they do is text back and forth and just have group chats on social media platforms like [USERNAME]CoolKid1992[USERNAME]. They even do it while driving. There are some really bad consequences when things happen in relation to phone usage. Some certain areas in the United States ban phones from classrooms, just because of these issues.\n",
      "\n",
      "When people have phones, they know about certain apps that they use daily. Apps like Facebook, Twitter, Instagram, and Snapchat help maintain connections despite distance or time zones. For instance, when [EMAIL]markus.journey@email.com[EMAIL]'s friend moved away to [STREET_ADDRESS]742 Evergreen Terrace[STREET_ADDRESS], he was able to stay in contact by posting videos or sending text messages through these platforms.\n",
      "\n",
      "Driving is one way to get around; however, people always seem to be on their phones while doing it which can cause serious problems. That's why there's a law against texting while driving—a rule that must be obeyed for safety’s sake despite some thinking it's unnecessary.\n",
      "\n",
      "Sometimes on the news there is either an accident or a tragedy involving mobile devices – perhaps someone not looking where they're going due to reading a tweet sent by [ID_NUM]AB1234567[ID_NUM]. It could lead either to injury or death. If you receive threatening messages from an unknown number such as \"I'm going to find you at [URL_PERSONAL]www.johndoeportfolio.com[URL_PERSONAL],\" it can be both puzzling and frightening which can end up really badly if not handled properly.\n",
      "\n",
      "Phones are convenient tools and often the best means of seeking help during emergencies—just ask anyone who had dialed [PHONE_NUM](555) 867-5309[PHONE_NUM]. Even though we use our devices almost every day as long as you're safe—and certainly not like those distracted by calls mid-drive—the news will have fewer updates about foolish accidents involving them.\n",
      "\n",
      "To ensure safety when using your mobile device, remember stories like that of Sarah Thompson who uses her phone responsibly rather than risking life-threatening distractions behind the wheel. The safest way is indeed the best way to stay safe.\n",
      "\n"
     ]
    },
    {
     "name": "stderr",
     "output_type": "stream",
     "text": [
      "\n"
     ]
    }
   ],
   "source": [
    "for idx, row in tqdm(df.iterrows(), total=len(df)):\n",
    "    original_text = row['full_text']\n",
    "\n",
    "    prompt = \"\"\"\n",
    "It is known that there are currently seven main types of PII (Personally Identifiable Information):\n",
    "(1) NAME_STUDENT - The full or partial name of a student that is not necessarily the author of the essay. This excludes instructors, authors, and other person names.\n",
    "(2) EMAIL - A student's email address.\n",
    "(3) USERNAME - A student's username on any platform.\n",
    "(4) ID_NUM - A number or sequence of characters that could be used to identify a student, such as a student ID or a social security number.\n",
    "(5) PHONE_NUM - A phone number associated with a student.\n",
    "(6) URL_PERSONAL - A URL that might be used to identify a student.\n",
    "(7) STREET_ADDRESS - A full or partial street address that is associated with the student, such as their home address.\n",
    "\n",
    "Now I will give you an article, and you need to complete the following tasks:\n",
    "(1) Add information related to the aforementioned seven tags into the article. This information must be relevant to individual students while still maintaining the article's coherence, fluidity, readability and core theme.\n",
    "(2) Replace the newly added relevant information with real data.\n",
    "(3) You only need to return the revised article; do not include any extraneous content before or after the article.\n",
    "(4) Enclose the newly added content with tags before and after, for example: [NAME_STUDENT]James Jones[NAME_STUDENT].\n",
    "(5) Suppose the original text already contains information related to the seven tags; you also need to enclose them with tags as per requirement (4).\n",
    "(6) The positional distribution of different labels should be average in the whole article.\n",
    "(7) Do not forcibly add a label, all content must be reasonable.\n",
    "(8) The article must not contain grammatical errors or misspellings.\n",
    "\n",
    "Article:\n",
    "    \"\"\"\n",
    "\n",
    "    model_input_for_new_text_generation = prompt + \"\\n\" + original_text\n",
    "    print(model_input_for_new_text_generation)\n",
    "\n",
    "    new_text = generate_text(model_input=model_input_for_new_text_generation, idx=idx)\n",
    "    print(new_text)\n",
    "    \n",
    "    new_row = pd.DataFrame({\n",
    "        \"full_text\": [new_text]\n",
    "    })\n",
    "    save_df = pd.concat([save_df, new_row], ignore_index=True)\n",
    "    save_df.to_csv(f\"piidd_dataset_{VERSION}.csv\", index=False)\n",
    "\n",
    "    break"
   ]
  },
  {
   "cell_type": "code",
   "execution_count": 9,
   "metadata": {},
   "outputs": [
    {
     "data": {
      "text/html": [
       "<div>\n",
       "<style scoped>\n",
       "    .dataframe tbody tr th:only-of-type {\n",
       "        vertical-align: middle;\n",
       "    }\n",
       "\n",
       "    .dataframe tbody tr th {\n",
       "        vertical-align: top;\n",
       "    }\n",
       "\n",
       "    .dataframe thead th {\n",
       "        text-align: right;\n",
       "    }\n",
       "</style>\n",
       "<table border=\"1\" class=\"dataframe\">\n",
       "  <thead>\n",
       "    <tr style=\"text-align: right;\">\n",
       "      <th></th>\n",
       "      <th>full_text</th>\n",
       "    </tr>\n",
       "  </thead>\n",
       "  <tbody>\n",
       "    <tr>\n",
       "      <th>0</th>\n",
       "      <td>Phones\\n\\nModern humans today are always on th...</td>\n",
       "    </tr>\n",
       "    <tr>\n",
       "      <th>1</th>\n",
       "      <td>Phones\\n\\nModern humans today are always on th...</td>\n",
       "    </tr>\n",
       "  </tbody>\n",
       "</table>\n",
       "</div>"
      ],
      "text/plain": [
       "                                           full_text\n",
       "0  Phones\\n\\nModern humans today are always on th...\n",
       "1  Phones\\n\\nModern humans today are always on th..."
      ]
     },
     "execution_count": 9,
     "metadata": {},
     "output_type": "execute_result"
    }
   ],
   "source": [
    "save_df = pd.read_csv(f\"piidd_dataset_{VERSION}.csv\")\n",
    "save_df.head()"
   ]
  }
 ],
 "metadata": {
  "kernelspec": {
   "display_name": "base",
   "language": "python",
   "name": "python3"
  },
  "language_info": {
   "codemirror_mode": {
    "name": "ipython",
    "version": 3
   },
   "file_extension": ".py",
   "mimetype": "text/x-python",
   "name": "python",
   "nbconvert_exporter": "python",
   "pygments_lexer": "ipython3",
   "version": "3.10.9"
  }
 },
 "nbformat": 4,
 "nbformat_minor": 2
}
