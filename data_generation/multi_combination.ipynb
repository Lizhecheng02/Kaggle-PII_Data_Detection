{
 "cells": [
  {
   "cell_type": "code",
   "execution_count": 1,
   "metadata": {},
   "outputs": [],
   "source": [
    "import pandas as pd\n",
    "import os\n",
    "from tqdm import tqdm"
   ]
  },
  {
   "cell_type": "code",
   "execution_count": 2,
   "metadata": {},
   "outputs": [],
   "source": [
    "df = pd.DataFrame(columns=[\"document\", \"full_text\", \"tokens\", \"trailing_whitespace\", \"labels\"])"
   ]
  },
  {
   "cell_type": "code",
   "execution_count": 3,
   "metadata": {},
   "outputs": [
    {
     "name": "stderr",
     "output_type": "stream",
     "text": [
      "100%|██████████| 4/4 [00:01<00:00,  2.67it/s]\n"
     ]
    },
    {
     "data": {
      "text/plain": [
       "(5528, 5)"
      ]
     },
     "execution_count": 3,
     "metadata": {},
     "output_type": "execute_result"
    }
   ],
   "source": [
    "for filename in tqdm(os.listdir(\"./vincent\")):\n",
    "    full_path = os.path.join(\"./vincent\", filename)\n",
    "    if full_path.endswith(\".json\"):\n",
    "        new_df = pd.read_json(full_path)\n",
    "        if \"trailing whitespace\" in new_df.columns:\n",
    "            new_df = new_df.drop(columns=[\"trailing whitespace\"])\n",
    "        df = pd.concat([df, new_df], ignore_index=True)\n",
    "\n",
    "\n",
    "def check_labels(label_list):\n",
    "    return \"I-EMAIL\" not in label_list and \"I-USERNAME\" not in label_list\n",
    "\n",
    "\n",
    "def has_no_adjacent_names(label_list):\n",
    "    last_label = None\n",
    "    for label in label_list:\n",
    "        if label.startswith(\"B-NAME_STUDENT\"):\n",
    "            if last_label is not None and last_label.startswith(\"B-NAME_INSTRUCTOR\"):\n",
    "                return False\n",
    "        if label.startswith(\"B-NAME_INSTRUCTOR\"):\n",
    "            if last_label is not None and last_label.startswith(\"B-NAME_STUDENT\"):\n",
    "                return False\n",
    "        last_label = label\n",
    "    return True\n",
    "\n",
    "df.drop_duplicates(subset=[\"full_text\"], inplace=True)\n",
    "df[\"document\"] = range(len(df))\n",
    "df[\"document\"] = df[\"document\"].astype(\"str\")\n",
    "# df = df[df[\"labels\"].apply(check_labels)]\n",
    "df = df[df[\"labels\"].apply(has_no_adjacent_names)]\n",
    "df.reset_index(drop=True, inplace=True)\n",
    "df.shape"
   ]
  },
  {
   "cell_type": "code",
   "execution_count": 4,
   "metadata": {},
   "outputs": [
    {
     "data": {
      "text/html": [
       "<div>\n",
       "<style scoped>\n",
       "    .dataframe tbody tr th:only-of-type {\n",
       "        vertical-align: middle;\n",
       "    }\n",
       "\n",
       "    .dataframe tbody tr th {\n",
       "        vertical-align: top;\n",
       "    }\n",
       "\n",
       "    .dataframe thead th {\n",
       "        text-align: right;\n",
       "    }\n",
       "</style>\n",
       "<table border=\"1\" class=\"dataframe\">\n",
       "  <thead>\n",
       "    <tr style=\"text-align: right;\">\n",
       "      <th></th>\n",
       "      <th>document</th>\n",
       "      <th>full_text</th>\n",
       "      <th>tokens</th>\n",
       "      <th>trailing_whitespace</th>\n",
       "      <th>labels</th>\n",
       "    </tr>\n",
       "  </thead>\n",
       "  <tbody>\n",
       "    <tr>\n",
       "      <th>0</th>\n",
       "      <td>0</td>\n",
       "      <td>In the realm of problem-solving, one often enc...</td>\n",
       "      <td>[In, the, realm, of, problem, -, solving, ,, o...</td>\n",
       "      <td>[True, True, True, True, False, False, False, ...</td>\n",
       "      <td>[O, O, O, O, O, O, O, O, O, O, O, O, O, O, O, ...</td>\n",
       "    </tr>\n",
       "    <tr>\n",
       "      <th>1</th>\n",
       "      <td>1</td>\n",
       "      <td>In today's fast-paced world, where challenges ...</td>\n",
       "      <td>[In, today, 's, fast, -, paced, world, ,, wher...</td>\n",
       "      <td>[True, False, True, False, False, True, False,...</td>\n",
       "      <td>[O, O, O, O, O, O, O, O, O, O, O, O, O, O, O, ...</td>\n",
       "    </tr>\n",
       "    <tr>\n",
       "      <th>2</th>\n",
       "      <td>2</td>\n",
       "      <td>As a student pursuing higher education, I am c...</td>\n",
       "      <td>[As, a, student, pursuing, higher, education, ...</td>\n",
       "      <td>[True, True, True, True, True, False, True, Tr...</td>\n",
       "      <td>[O, O, O, O, O, O, O, O, O, O, O, O, O, O, O, ...</td>\n",
       "    </tr>\n",
       "    <tr>\n",
       "      <th>3</th>\n",
       "      <td>3</td>\n",
       "      <td>As a student pursuing higher education, I am c...</td>\n",
       "      <td>[As, a, student, pursuing, higher, education, ...</td>\n",
       "      <td>[True, True, True, True, True, False, True, Tr...</td>\n",
       "      <td>[O, O, O, O, O, O, O, O, O, O, O, O, O, O, O, ...</td>\n",
       "    </tr>\n",
       "    <tr>\n",
       "      <th>4</th>\n",
       "      <td>4</td>\n",
       "      <td>In tackling complex challenges, I have always ...</td>\n",
       "      <td>[In, tackling, complex, challenges, ,, I, have...</td>\n",
       "      <td>[True, True, True, False, True, True, True, Tr...</td>\n",
       "      <td>[O, O, O, O, O, O, O, O, O, O, O, O, O, O, O, ...</td>\n",
       "    </tr>\n",
       "    <tr>\n",
       "      <th>5</th>\n",
       "      <td>5</td>\n",
       "      <td>As a student, I have always been intrigued by ...</td>\n",
       "      <td>[As, a, student, ,, I, have, always, been, int...</td>\n",
       "      <td>[True, True, False, True, True, True, True, Tr...</td>\n",
       "      <td>[O, O, O, O, O, O, O, O, O, O, O, O, O, O, O, ...</td>\n",
       "    </tr>\n",
       "    <tr>\n",
       "      <th>6</th>\n",
       "      <td>6</td>\n",
       "      <td>In today's fast-paced and ever-evolving world,...</td>\n",
       "      <td>[In, today, 's, fast, -, paced, and, ever, -, ...</td>\n",
       "      <td>[True, False, True, False, False, True, True, ...</td>\n",
       "      <td>[O, O, O, O, O, O, O, O, O, O, O, O, O, O, O, ...</td>\n",
       "    </tr>\n",
       "    <tr>\n",
       "      <th>7</th>\n",
       "      <td>7</td>\n",
       "      <td>In the realm of problem-solving, one often enc...</td>\n",
       "      <td>[In, the, realm, of, problem, -, solving, ,, o...</td>\n",
       "      <td>[True, True, True, True, False, False, False, ...</td>\n",
       "      <td>[O, O, O, O, O, O, O, O, O, O, O, O, O, O, O, ...</td>\n",
       "    </tr>\n",
       "    <tr>\n",
       "      <th>8</th>\n",
       "      <td>8</td>\n",
       "      <td>As I sat down to tackle the complex challenge ...</td>\n",
       "      <td>[As, I, sat, down, to, tackle, the, complex, c...</td>\n",
       "      <td>[True, True, True, True, True, True, True, Tru...</td>\n",
       "      <td>[O, O, O, O, O, O, O, O, O, O, O, O, O, O, O, ...</td>\n",
       "    </tr>\n",
       "    <tr>\n",
       "      <th>9</th>\n",
       "      <td>9</td>\n",
       "      <td>Throughout my academic journey, I have encount...</td>\n",
       "      <td>[Throughout, my, academic, journey, ,, I, have...</td>\n",
       "      <td>[True, True, True, False, True, True, True, Tr...</td>\n",
       "      <td>[O, O, O, O, O, O, O, O, O, O, O, O, O, O, O, ...</td>\n",
       "    </tr>\n",
       "  </tbody>\n",
       "</table>\n",
       "</div>"
      ],
      "text/plain": [
       "  document                                          full_text  \\\n",
       "0        0  In the realm of problem-solving, one often enc...   \n",
       "1        1  In today's fast-paced world, where challenges ...   \n",
       "2        2  As a student pursuing higher education, I am c...   \n",
       "3        3  As a student pursuing higher education, I am c...   \n",
       "4        4  In tackling complex challenges, I have always ...   \n",
       "5        5  As a student, I have always been intrigued by ...   \n",
       "6        6  In today's fast-paced and ever-evolving world,...   \n",
       "7        7  In the realm of problem-solving, one often enc...   \n",
       "8        8  As I sat down to tackle the complex challenge ...   \n",
       "9        9  Throughout my academic journey, I have encount...   \n",
       "\n",
       "                                              tokens  \\\n",
       "0  [In, the, realm, of, problem, -, solving, ,, o...   \n",
       "1  [In, today, 's, fast, -, paced, world, ,, wher...   \n",
       "2  [As, a, student, pursuing, higher, education, ...   \n",
       "3  [As, a, student, pursuing, higher, education, ...   \n",
       "4  [In, tackling, complex, challenges, ,, I, have...   \n",
       "5  [As, a, student, ,, I, have, always, been, int...   \n",
       "6  [In, today, 's, fast, -, paced, and, ever, -, ...   \n",
       "7  [In, the, realm, of, problem, -, solving, ,, o...   \n",
       "8  [As, I, sat, down, to, tackle, the, complex, c...   \n",
       "9  [Throughout, my, academic, journey, ,, I, have...   \n",
       "\n",
       "                                 trailing_whitespace  \\\n",
       "0  [True, True, True, True, False, False, False, ...   \n",
       "1  [True, False, True, False, False, True, False,...   \n",
       "2  [True, True, True, True, True, False, True, Tr...   \n",
       "3  [True, True, True, True, True, False, True, Tr...   \n",
       "4  [True, True, True, False, True, True, True, Tr...   \n",
       "5  [True, True, False, True, True, True, True, Tr...   \n",
       "6  [True, False, True, False, False, True, True, ...   \n",
       "7  [True, True, True, True, False, False, False, ...   \n",
       "8  [True, True, True, True, True, True, True, Tru...   \n",
       "9  [True, True, True, False, True, True, True, Tr...   \n",
       "\n",
       "                                              labels  \n",
       "0  [O, O, O, O, O, O, O, O, O, O, O, O, O, O, O, ...  \n",
       "1  [O, O, O, O, O, O, O, O, O, O, O, O, O, O, O, ...  \n",
       "2  [O, O, O, O, O, O, O, O, O, O, O, O, O, O, O, ...  \n",
       "3  [O, O, O, O, O, O, O, O, O, O, O, O, O, O, O, ...  \n",
       "4  [O, O, O, O, O, O, O, O, O, O, O, O, O, O, O, ...  \n",
       "5  [O, O, O, O, O, O, O, O, O, O, O, O, O, O, O, ...  \n",
       "6  [O, O, O, O, O, O, O, O, O, O, O, O, O, O, O, ...  \n",
       "7  [O, O, O, O, O, O, O, O, O, O, O, O, O, O, O, ...  \n",
       "8  [O, O, O, O, O, O, O, O, O, O, O, O, O, O, O, ...  \n",
       "9  [O, O, O, O, O, O, O, O, O, O, O, O, O, O, O, ...  "
      ]
     },
     "execution_count": 4,
     "metadata": {},
     "output_type": "execute_result"
    }
   ],
   "source": [
    "df.head(10)"
   ]
  },
  {
   "cell_type": "code",
   "execution_count": 5,
   "metadata": {},
   "outputs": [
    {
     "data": {
      "text/plain": [
       "document               object\n",
       "full_text              object\n",
       "tokens                 object\n",
       "trailing_whitespace    object\n",
       "labels                 object\n",
       "dtype: object"
      ]
     },
     "execution_count": 5,
     "metadata": {},
     "output_type": "execute_result"
    }
   ],
   "source": [
    "df.dtypes"
   ]
  },
  {
   "cell_type": "code",
   "execution_count": 6,
   "metadata": {},
   "outputs": [],
   "source": [
    "df.to_json(\"./vincent/vincent_5k_0223.json\", orient=\"records\")"
   ]
  }
 ],
 "metadata": {
  "kernelspec": {
   "display_name": "base",
   "language": "python",
   "name": "python3"
  },
  "language_info": {
   "codemirror_mode": {
    "name": "ipython",
    "version": 3
   },
   "file_extension": ".py",
   "mimetype": "text/x-python",
   "name": "python",
   "nbconvert_exporter": "python",
   "pygments_lexer": "ipython3",
   "version": "3.10.9"
  }
 },
 "nbformat": 4,
 "nbformat_minor": 2
}
