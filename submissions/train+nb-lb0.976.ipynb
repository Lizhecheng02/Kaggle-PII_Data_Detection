{
 "cells": [
  {
   "cell_type": "code",
   "execution_count": null,
   "id": "be7bee44",
   "metadata": {
    "_cell_guid": "b1076dfc-b9ad-4769-8c92-a6c4dae69d19",
    "_uuid": "8f2839f25d086af736a60e9eeb907d3b93b6e0e5",
    "execution": {
     "iopub.execute_input": "2024-02-21T07:45:45.645736Z",
     "iopub.status.busy": "2024-02-21T07:45:45.644698Z",
     "iopub.status.idle": "2024-02-21T07:46:16.140249Z",
     "shell.execute_reply": "2024-02-21T07:46:16.139362Z"
    },
    "papermill": {
     "duration": 30.508109,
     "end_time": "2024-02-21T07:46:16.142831",
     "exception": false,
     "start_time": "2024-02-21T07:45:45.634722",
     "status": "completed"
    },
    "tags": []
   },
   "outputs": [],
   "source": [
    "import json\n",
    "import re\n",
    "import argparse\n",
    "from itertools import chain\n",
    "import pandas as pd\n",
    "from pathlib import Path\n",
    "from transformers import AutoTokenizer, AutoModelForTokenClassification, Trainer, TrainingArguments, DataCollatorForTokenClassification\n",
    "from datasets import Dataset\n",
    "import numpy as np\n",
    "import torch\n",
    "from torch.utils.data import Dataset, DataLoader\n",
    "from collections import defaultdict\n",
    "from tqdm import tqdm"
   ]
  },
  {
   "cell_type": "code",
   "execution_count": null,
   "id": "d4f16d8b",
   "metadata": {
    "execution": {
     "iopub.execute_input": "2024-02-21T07:46:16.164323Z",
     "iopub.status.busy": "2024-02-21T07:46:16.163320Z",
     "iopub.status.idle": "2024-02-21T07:46:16.168089Z",
     "shell.execute_reply": "2024-02-21T07:46:16.167119Z"
    },
    "papermill": {
     "duration": 0.017603,
     "end_time": "2024-02-21T07:46:16.170346",
     "exception": false,
     "start_time": "2024-02-21T07:46:16.152743",
     "status": "completed"
    },
    "tags": []
   },
   "outputs": [],
   "source": [
    "INFERENCE_MAX_LENGTH = 1024\n",
    "INFERENCE_STRIDE = 256\n",
    "TRAINING_MODEL_PATH = [\"/kaggle/input/pii-data-detection-models/checkpoint-900\"]"
   ]
  },
  {
   "cell_type": "code",
   "execution_count": null,
   "id": "311c178b",
   "metadata": {
    "execution": {
     "iopub.execute_input": "2024-02-21T07:46:16.190237Z",
     "iopub.status.busy": "2024-02-21T07:46:16.189643Z",
     "iopub.status.idle": "2024-02-21T07:46:16.196619Z",
     "shell.execute_reply": "2024-02-21T07:46:16.195732Z"
    },
    "papermill": {
     "duration": 0.019017,
     "end_time": "2024-02-21T07:46:16.198680",
     "exception": false,
     "start_time": "2024-02-21T07:46:16.179663",
     "status": "completed"
    },
    "tags": []
   },
   "outputs": [],
   "source": [
    "id2label = {\n",
    "    0: \"B-EMAIL\",\n",
    "    1: \"B-ID_NUM\",\n",
    "    2: \"B-NAME_STUDENT\",\n",
    "    3: \"B-PHONE_NUM\",\n",
    "    4: \"B-STREET_ADDRESS\",\n",
    "    5: \"B-URL_PERSONAL\",\n",
    "    6: \"B-USERNAME\",\n",
    "    7: \"I-ID_NUM\",\n",
    "    8: \"I-NAME_STUDENT\",\n",
    "    9: \"I-PHONE_NUM\",\n",
    "    10: \"I-STREET_ADDRESS\",\n",
    "    11: \"I-URL_PERSONAL\",\n",
    "    12: \"O\"\n",
    "}\n",
    "\n",
    "label2id = {\n",
    "    \"B-EMAIL\": 0,\n",
    "    \"B-ID_NUM\": 1,\n",
    "    \"B-NAME_STUDENT\": 2,\n",
    "    \"B-PHONE_NUM\": 3,\n",
    "    \"B-STREET_ADDRESS\": 4,\n",
    "    \"B-URL_PERSONAL\": 5,\n",
    "    \"B-USERNAME\": 6,\n",
    "    \"I-ID_NUM\": 7,\n",
    "    \"I-NAME_STUDENT\": 8,\n",
    "    \"I-PHONE_NUM\": 9,\n",
    "    \"I-STREET_ADDRESS\": 10,\n",
    "    \"I-URL_PERSONAL\": 11,\n",
    "    \"O\": 12\n",
    "}\n",
    "\n",
    "all_labels = [\n",
    "    \"B-EMAIL\",\n",
    "    \"B-ID_NUM\",\n",
    "    \"B-NAME_STUDENT\",\n",
    "    \"B-PHONE_NUM\",\n",
    "    \"B-STREET_ADDRESS\",\n",
    "    \"B-URL_PERSONAL\",\n",
    "    \"B-USERNAME\",\n",
    "    \"I-ID_NUM\",\n",
    "    \"I-NAME_STUDENT\",\n",
    "    \"I-PHONE_NUM\",\n",
    "    \"I-STREET_ADDRESS\",\n",
    "    \"I-URL_PERSONAL\",\n",
    "    \"O\"\n",
    "]"
   ]
  },
  {
   "cell_type": "code",
   "execution_count": null,
   "id": "3a00b3fd",
   "metadata": {
    "execution": {
     "iopub.execute_input": "2024-02-21T07:46:16.219310Z",
     "iopub.status.busy": "2024-02-21T07:46:16.218978Z",
     "iopub.status.idle": "2024-02-21T07:46:16.268689Z",
     "shell.execute_reply": "2024-02-21T07:46:16.267885Z"
    },
    "papermill": {
     "duration": 0.063205,
     "end_time": "2024-02-21T07:46:16.271196",
     "exception": false,
     "start_time": "2024-02-21T07:46:16.207991",
     "status": "completed"
    },
    "tags": []
   },
   "outputs": [],
   "source": [
    "df = pd.read_json(\"/kaggle/input/pii-detection-removal-from-educational-data/test.json\")\n",
    "\n",
    "def get_labels(word_ids, word_labels):\n",
    "    label_ids = []\n",
    "    for word_idx in word_ids:\n",
    "        if word_idx is None:\n",
    "            label_ids.append(-100)\n",
    "        else:\n",
    "            label_ids.append(label2id[word_labels[word_idx]])\n",
    "    return label_ids\n",
    "\n",
    "\n",
    "\n",
    "# Tokenize texts, possibly generating more than one tokenized sample for each text\n",
    "def tokenize(df, to_tensor=True, with_labels=True):\n",
    "    # This is what\"s different from a longformer\n",
    "\n",
    "    # Read the parameters with attention\n",
    "\n",
    "    encoded = tokenizer(\n",
    "        df[\"tokens\"].tolist(),\n",
    "        is_split_into_words=True,\n",
    "        return_overflowing_tokens=True,\n",
    "        stride=INFERENCE_STRIDE,\n",
    "        max_length=INFERENCE_MAX_LENGTH,\n",
    "        padding=\"max_length\",\n",
    "        truncation=True\n",
    "    )\n",
    "\n",
    "\n",
    "    if with_labels:\n",
    "        encoded[\"labels\"] = []\n",
    "\n",
    "    encoded[\"wids\"] = []\n",
    "\n",
    "    n = len(encoded[\"overflow_to_sample_mapping\"])\n",
    "    for i in range(n):\n",
    "        # Map back to original row\n",
    "        text_idx = encoded[\"overflow_to_sample_mapping\"][i]\n",
    "        # Get word indexes (this is a global index that takes into consideration the chunking :D )\n",
    "        word_ids = encoded.word_ids(i)\n",
    "        if with_labels:\n",
    "            # Get word labels of the full un-chunked text\n",
    "            word_labels = df[\"labels\"].iloc[text_idx]\n",
    "            # Get the labels associated with the word indexes\n",
    "            label_ids = get_labels(word_ids, word_labels)\n",
    "\n",
    "            encoded[\"labels\"].append(label_ids)\n",
    "\n",
    "        encoded[\"wids\"].append([w if w is not None else -1 for w in word_ids])\n",
    "\n",
    "    if to_tensor:\n",
    "        encoded = {key: torch.as_tensor(val) for key, val in encoded.items()}\n",
    "\n",
    "    return encoded"
   ]
  },
  {
   "cell_type": "code",
   "execution_count": null,
   "id": "c6e07246",
   "metadata": {},
   "outputs": [],
   "source": [
    "class PIIDataset(Dataset):\n",
    "    def __init__(self, tokenized_ds):\n",
    "        self.data = tokenized_ds\n",
    "\n",
    "    def __getitem__(self, index):\n",
    "        item = {k: self.data[k][index] for k in self.data.keys()}\n",
    "        return item\n",
    "\n",
    "    def __len__(self):\n",
    "        return len(self.data[\"input_ids\"])"
   ]
  },
  {
   "cell_type": "code",
   "execution_count": null,
   "id": "67e108ac",
   "metadata": {
    "execution": {
     "iopub.execute_input": "2024-02-21T07:46:16.322534Z",
     "iopub.status.busy": "2024-02-21T07:46:16.322185Z",
     "iopub.status.idle": "2024-02-21T07:46:16.332393Z",
     "shell.execute_reply": "2024-02-21T07:46:16.331409Z"
    },
    "papermill": {
     "duration": 0.022655,
     "end_time": "2024-02-21T07:46:16.334491",
     "exception": false,
     "start_time": "2024-02-21T07:46:16.311836",
     "status": "completed"
    },
    "tags": []
   },
   "outputs": [],
   "source": [
    "def inferenceV4(df, dl):\n",
    "\n",
    "    # These 2 dictionaries will hold text-level data\n",
    "    # Helping in the merging process by accumulating data\n",
    "    # Through all the chunks\n",
    "\n",
    "    token_pred = defaultdict(lambda: defaultdict(int))\n",
    "    token_cnt = defaultdict(lambda: defaultdict(int))\n",
    "\n",
    "    for batch in tqdm(dl):\n",
    "        ids = batch[\"input_ids\"].to(\"cuda\")\n",
    "        mask = batch[\"attention_mask\"].to(\"cuda\")\n",
    "        preds = model(ids, attention_mask=mask, return_dict=False)[0].cpu().detach().numpy()\n",
    "        preds_softmax = np.exp(preds) / np.sum(np.exp(preds), axis=2).reshape(preds.shape[0], preds.shape[1], 1)\n",
    "\n",
    "        del ids, mask\n",
    "        # Go over each prediction, getting the text_id reference\n",
    "        for k, (chunk_preds, text_id) in enumerate(zip(preds_softmax, batch[\"overflow_to_sample_mapping\"].tolist())):\n",
    "            # The word_ids are absolute references in the original text\n",
    "            word_ids = batch[\"wids\"][k].numpy()\n",
    "\n",
    "            for idx, word_idx in enumerate(word_ids):\n",
    "                if word_idx != -1:\n",
    "                    token_pred[text_id][word_idx] += chunk_preds[idx]\n",
    "                    token_cnt[text_id][word_idx] += 1\n",
    "\n",
    "    for text_id in token_pred:\n",
    "        for word_idx in token_pred[text_id]:\n",
    "            token_pred[text_id][word_idx] /= token_cnt[text_id][word_idx]\n",
    "\n",
    "    return token_pred"
   ]
  },
  {
   "cell_type": "code",
   "execution_count": null,
   "id": "bb0280e2",
   "metadata": {
    "execution": {
     "iopub.execute_input": "2024-02-21T07:46:16.387134Z",
     "iopub.status.busy": "2024-02-21T07:46:16.386557Z",
     "iopub.status.idle": "2024-02-21T07:46:37.191556Z",
     "shell.execute_reply": "2024-02-21T07:46:37.190510Z"
    },
    "papermill": {
     "duration": 20.817208,
     "end_time": "2024-02-21T07:46:37.193809",
     "exception": false,
     "start_time": "2024-02-21T07:46:16.376601",
     "status": "completed"
    },
    "tags": []
   },
   "outputs": [],
   "source": [
    "final_token_pred = defaultdict(lambda: defaultdict(int))\n",
    "for model_path in TRAINING_MODEL_PATH:\n",
    "    tokenizer = AutoTokenizer.from_pretrained(model_path)\n",
    "    tokenized_test = tokenize(df, with_labels=False)\n",
    "\n",
    "    test_dataset = PIIDataset(tokenized_test)\n",
    "    test_dataloader = DataLoader(test_dataset, batch_size=1)\n",
    "    model = AutoModelForTokenClassification.from_pretrained(\n",
    "        model_path,\n",
    "        num_labels=len(all_labels),\n",
    "        id2label=id2label,\n",
    "        label2id=label2id,\n",
    "        ignore_mismatched_sizes=True\n",
    "    )\n",
    "    model.cuda()\n",
    "    token_pred = inferenceV4(df, test_dataloader)\n",
    "    for text_id in token_pred:\n",
    "        for word_idx in token_pred[text_id]:\n",
    "            final_token_pred[text_id][word_idx] += token_pred[text_id][word_idx] / len(TRAINING_MODEL_PATH)"
   ]
  },
  {
   "cell_type": "code",
   "execution_count": null,
   "id": "8d5e88cf",
   "metadata": {
    "execution": {
     "iopub.execute_input": "2024-02-21T07:46:37.215470Z",
     "iopub.status.busy": "2024-02-21T07:46:37.215170Z",
     "iopub.status.idle": "2024-02-21T07:46:37.271890Z",
     "shell.execute_reply": "2024-02-21T07:46:37.270967Z"
    },
    "papermill": {
     "duration": 0.069627,
     "end_time": "2024-02-21T07:46:37.274085",
     "exception": false,
     "start_time": "2024-02-21T07:46:37.204458",
     "status": "completed"
    },
    "tags": []
   },
   "outputs": [],
   "source": [
    "document, token, label = [], [], []\n",
    "for text_id in final_token_pred:\n",
    "    for word_idx in final_token_pred[text_id]:\n",
    "        pred = final_token_pred[text_id][word_idx].argmax(-1)\n",
    "        pred_without_O = final_token_pred[text_id][word_idx][:12].argmax(-1)\n",
    "        if final_token_pred[text_id][word_idx][12] < 0.55:\n",
    "            final_pred = pred_without_O\n",
    "        else:\n",
    "            final_pred = pred\n",
    "        if id2label[final_pred] != \"O\":\n",
    "            document.append(df.loc[text_id, \"document\"])\n",
    "            token.append(word_idx)\n",
    "            label.append(id2label[final_pred])\n",
    "            \n",
    "pred_df = pd.DataFrame({\n",
    "    \"document\": document,\n",
    "    \"token\": token,\n",
    "    \"label\": label\n",
    "})"
   ]
  },
  {
   "cell_type": "code",
   "execution_count": null,
   "id": "1b7b6efd",
   "metadata": {
    "execution": {
     "iopub.execute_input": "2024-02-21T07:46:37.295380Z",
     "iopub.status.busy": "2024-02-21T07:46:37.295116Z",
     "iopub.status.idle": "2024-02-21T07:46:37.299902Z",
     "shell.execute_reply": "2024-02-21T07:46:37.299056Z"
    },
    "papermill": {
     "duration": 0.017896,
     "end_time": "2024-02-21T07:46:37.301983",
     "exception": false,
     "start_time": "2024-02-21T07:46:37.284087",
     "status": "completed"
    },
    "tags": []
   },
   "outputs": [],
   "source": [
    "def score(row):\n",
    "    doc = row.document\n",
    "    tok = row.token\n",
    "    doc_idx = df.query(\"document == @doc\").index[0]\n",
    "    return token_pred[doc_idx][tok][label2id[row.label]]"
   ]
  },
  {
   "cell_type": "code",
   "execution_count": null,
   "id": "5e4c2859",
   "metadata": {
    "execution": {
     "iopub.execute_input": "2024-02-21T07:46:37.323759Z",
     "iopub.status.busy": "2024-02-21T07:46:37.323482Z",
     "iopub.status.idle": "2024-02-21T07:46:37.394524Z",
     "shell.execute_reply": "2024-02-21T07:46:37.393720Z"
    },
    "papermill": {
     "duration": 0.084012,
     "end_time": "2024-02-21T07:46:37.396332",
     "exception": false,
     "start_time": "2024-02-21T07:46:37.312320",
     "status": "completed"
    },
    "tags": []
   },
   "outputs": [],
   "source": [
    "pred_df[\"score\"] = pred_df.apply(lambda x: score(x), axis=1)"
   ]
  },
  {
   "cell_type": "markdown",
   "id": "00eb0e4f",
   "metadata": {
    "papermill": {
     "duration": 0.009987,
     "end_time": "2024-02-21T07:46:37.416382",
     "exception": false,
     "start_time": "2024-02-21T07:46:37.406395",
     "status": "completed"
    },
    "tags": []
   },
   "source": [
    "## Postprocess"
   ]
  },
  {
   "cell_type": "code",
   "execution_count": null,
   "id": "43a4f5fd",
   "metadata": {
    "execution": {
     "iopub.execute_input": "2024-02-21T07:46:37.439592Z",
     "iopub.status.busy": "2024-02-21T07:46:37.438673Z",
     "iopub.status.idle": "2024-02-21T07:46:37.452395Z",
     "shell.execute_reply": "2024-02-21T07:46:37.451332Z"
    },
    "papermill": {
     "duration": 0.027672,
     "end_time": "2024-02-21T07:46:37.454649",
     "exception": false,
     "start_time": "2024-02-21T07:46:37.426977",
     "status": "completed"
    },
    "tags": []
   },
   "outputs": [],
   "source": [
    "df = df[[\"document\", \"tokens\"]].copy()"
   ]
  },
  {
   "cell_type": "code",
   "execution_count": null,
   "id": "a9b287aa",
   "metadata": {
    "execution": {
     "iopub.execute_input": "2024-02-21T07:46:37.478259Z",
     "iopub.status.busy": "2024-02-21T07:46:37.477806Z",
     "iopub.status.idle": "2024-02-21T07:46:37.503735Z",
     "shell.execute_reply": "2024-02-21T07:46:37.502775Z"
    },
    "papermill": {
     "duration": 0.041005,
     "end_time": "2024-02-21T07:46:37.506396",
     "exception": false,
     "start_time": "2024-02-21T07:46:37.465391",
     "status": "completed"
    },
    "tags": []
   },
   "outputs": [],
   "source": [
    "df = df.explode([\"tokens\"]).reset_index(drop=True).rename(columns={\"tokens\": \"token\"})"
   ]
  },
  {
   "cell_type": "code",
   "execution_count": null,
   "id": "2c3436fe",
   "metadata": {
    "execution": {
     "iopub.execute_input": "2024-02-21T07:46:37.530702Z",
     "iopub.status.busy": "2024-02-21T07:46:37.530283Z",
     "iopub.status.idle": "2024-02-21T07:46:37.542580Z",
     "shell.execute_reply": "2024-02-21T07:46:37.541686Z"
    },
    "papermill": {
     "duration": 0.027043,
     "end_time": "2024-02-21T07:46:37.544791",
     "exception": false,
     "start_time": "2024-02-21T07:46:37.517748",
     "status": "completed"
    },
    "tags": []
   },
   "outputs": [],
   "source": [
    "df[\"token_str\"] = df[\"token\"]\n",
    "df[\"token\"] = df.groupby(\"document\").cumcount()"
   ]
  },
  {
   "cell_type": "code",
   "execution_count": null,
   "id": "0a4f9fc8",
   "metadata": {
    "execution": {
     "iopub.execute_input": "2024-02-21T07:46:37.568741Z",
     "iopub.status.busy": "2024-02-21T07:46:37.567967Z",
     "iopub.status.idle": "2024-02-21T07:46:37.586140Z",
     "shell.execute_reply": "2024-02-21T07:46:37.585217Z"
    },
    "papermill": {
     "duration": 0.033281,
     "end_time": "2024-02-21T07:46:37.589000",
     "exception": false,
     "start_time": "2024-02-21T07:46:37.555719",
     "status": "completed"
    },
    "tags": []
   },
   "outputs": [],
   "source": [
    "new_pred_df = pd.merge(df, pred_df[[\"document\", \"token\", \"label\", \"score\"]], on=[\"document\", \"token\"], how=\"left\")\n",
    "new_pred_df[\"label\"] = new_pred_df[\"label\"].fillna(\"O\")"
   ]
  },
  {
   "cell_type": "code",
   "execution_count": null,
   "id": "e46b2016",
   "metadata": {
    "execution": {
     "iopub.execute_input": "2024-02-21T07:46:37.613765Z",
     "iopub.status.busy": "2024-02-21T07:46:37.613414Z",
     "iopub.status.idle": "2024-02-21T07:46:37.629446Z",
     "shell.execute_reply": "2024-02-21T07:46:37.628407Z"
    },
    "papermill": {
     "duration": 0.030303,
     "end_time": "2024-02-21T07:46:37.631565",
     "exception": false,
     "start_time": "2024-02-21T07:46:37.601262",
     "status": "completed"
    },
    "tags": []
   },
   "outputs": [],
   "source": [
    "def pp(new_pred_df):\n",
    "    df = new_pred_df.copy()\n",
    "    i = 0\n",
    "    while i < len(df):\n",
    "        st = i\n",
    "        doc = df.loc[st, \"document\"]\n",
    "        tok = df.loc[st, \"token\"]\n",
    "        pred_tok = df.loc[st, \"label\"]\n",
    "        if pred_tok == \"O\":\n",
    "            i += 1\n",
    "            continue\n",
    "        lab = pred_tok.split(\"-\")[1]\n",
    "        cur_doc = doc\n",
    "        cur_lab = lab\n",
    "        last_tok = tok\n",
    "        cur_tok = last_tok\n",
    "        while i < len(df) and cur_doc == doc and cur_lab == lab and last_tok == cur_tok:\n",
    "            last_tok = cur_tok + 1\n",
    "            i += 1\n",
    "            cur_doc = df.loc[i, \"document\"]\n",
    "            cur_tok = df.loc[i, \"token\"]\n",
    "            if i >= len(df) or df.loc[i, \"label\"] == \"O\":\n",
    "                break\n",
    "            cur_lab = df.loc[i, \"label\"].split(\"-\")[1]\n",
    "\n",
    "        # exception\n",
    "        if st - 2 >= 0 and df.loc[st - 2, \"document\"] == df.loc[st, \"document\"] and df.loc[st - 1, \"token_str\"] == \"\\n\" and df.loc[st - 2, \"label\"] != \"O\" and df.loc[st - 2, \"label\"].split(\"-\")[1] == lab:\n",
    "            df.loc[st - 1, \"label\"] = \"I-\" + lab\n",
    "            df.loc[st - 1, \"score\"] = 1\n",
    "            for j in range(st, i):\n",
    "                if df.loc[j, \"label\"] != \"I-\" + lab:\n",
    "                    df.loc[j, \"score\"] = 1\n",
    "                    df.loc[j, \"label\"] = \"I-\" + lab\n",
    "            continue\n",
    "\n",
    "        # fix\n",
    "        for j in range(st, i):\n",
    "            if j == st:\n",
    "                if df.loc[j, \"label\"] != \"B-\" + lab:\n",
    "                    df.loc[j, \"score\"] = 1\n",
    "                    df.loc[j, \"label\"] = \"B-\" + lab\n",
    "            else:\n",
    "                if df.loc[j, \"label\"] != \"I-\" + lab:\n",
    "                    df.loc[j, \"score\"] = 1\n",
    "                    df.loc[j, \"label\"] = \"I-\" + lab\n",
    "\n",
    "        if lab == \"NAME_STUDENT\" and any(len(item) == 2 and item[0].isupper() and item[1] == \".\" for item in df.loc[st:i-1, \"token_str\"]):\n",
    "            for j in range(st, i):\n",
    "                df.loc[j, \"score\"] = 0\n",
    "                df.loc[j, \"label\"] = \"O\"\n",
    "\n",
    "    return df"
   ]
  },
  {
   "cell_type": "code",
   "execution_count": null,
   "id": "89f7aba5",
   "metadata": {
    "execution": {
     "iopub.execute_input": "2024-02-21T07:46:37.654485Z",
     "iopub.status.busy": "2024-02-21T07:46:37.654119Z",
     "iopub.status.idle": "2024-02-21T07:46:38.091007Z",
     "shell.execute_reply": "2024-02-21T07:46:38.090010Z"
    },
    "papermill": {
     "duration": 0.451677,
     "end_time": "2024-02-21T07:46:38.093697",
     "exception": false,
     "start_time": "2024-02-21T07:46:37.642020",
     "status": "completed"
    },
    "tags": []
   },
   "outputs": [],
   "source": [
    "new_pred_df = pp(new_pred_df)"
   ]
  },
  {
   "cell_type": "code",
   "execution_count": null,
   "id": "decd73c4",
   "metadata": {
    "execution": {
     "iopub.execute_input": "2024-02-21T07:46:38.117647Z",
     "iopub.status.busy": "2024-02-21T07:46:38.116748Z",
     "iopub.status.idle": "2024-02-21T07:46:38.137554Z",
     "shell.execute_reply": "2024-02-21T07:46:38.136597Z"
    },
    "papermill": {
     "duration": 0.03424,
     "end_time": "2024-02-21T07:46:38.139432",
     "exception": false,
     "start_time": "2024-02-21T07:46:38.105192",
     "status": "completed"
    },
    "tags": []
   },
   "outputs": [],
   "source": [
    "new_pred_df"
   ]
  },
  {
   "cell_type": "code",
   "execution_count": null,
   "id": "b8e48089",
   "metadata": {
    "execution": {
     "iopub.execute_input": "2024-02-21T07:46:38.160853Z",
     "iopub.status.busy": "2024-02-21T07:46:38.160552Z",
     "iopub.status.idle": "2024-02-21T07:46:38.170011Z",
     "shell.execute_reply": "2024-02-21T07:46:38.169151Z"
    },
    "papermill": {
     "duration": 0.022114,
     "end_time": "2024-02-21T07:46:38.171935",
     "exception": false,
     "start_time": "2024-02-21T07:46:38.149821",
     "status": "completed"
    },
    "tags": []
   },
   "outputs": [],
   "source": [
    "new_pred_df = new_pred_df.query(\"label != 'O'\").reset_index(drop=True)"
   ]
  },
  {
   "cell_type": "code",
   "execution_count": null,
   "id": "c1b27da0",
   "metadata": {
    "execution": {
     "iopub.execute_input": "2024-02-21T07:46:38.273702Z",
     "iopub.status.busy": "2024-02-21T07:46:38.273258Z",
     "iopub.status.idle": "2024-02-21T07:46:38.280846Z",
     "shell.execute_reply": "2024-02-21T07:46:38.279968Z"
    },
    "papermill": {
     "duration": 0.020169,
     "end_time": "2024-02-21T07:46:38.282864",
     "exception": false,
     "start_time": "2024-02-21T07:46:38.262695",
     "status": "completed"
    },
    "tags": []
   },
   "outputs": [],
   "source": [
    "rows_to_delete = []\n",
    "for idx, row in new_pred_df.iterrows():\n",
    "    if row.label == \"I-PHONE_NUM\":\n",
    "        if row.token_str == \")\":\n",
    "            rows_to_delete.append(idx)\n",
    "        elif not bool(re.search(r\"\\d\", row.token_str)):\n",
    "            rows_to_delete.append(idx)\n",
    "    elif row.label == \"B-EMAIL\":\n",
    "        if \"@\" not in row.token_str:\n",
    "            rows_to_delete.append(idx)"
   ]
  },
  {
   "cell_type": "code",
   "execution_count": null,
   "id": "ef352ddf",
   "metadata": {
    "execution": {
     "iopub.execute_input": "2024-02-21T07:46:38.346075Z",
     "iopub.status.busy": "2024-02-21T07:46:38.345704Z",
     "iopub.status.idle": "2024-02-21T07:46:38.350940Z",
     "shell.execute_reply": "2024-02-21T07:46:38.349886Z"
    },
    "papermill": {
     "duration": 0.060045,
     "end_time": "2024-02-21T07:46:38.352954",
     "exception": false,
     "start_time": "2024-02-21T07:46:38.292909",
     "status": "completed"
    },
    "tags": []
   },
   "outputs": [],
   "source": [
    "new_pred_df = new_pred_df.drop(rows_to_delete, axis=0, inplace=False)"
   ]
  },
  {
   "cell_type": "code",
   "execution_count": null,
   "id": "dd17e127",
   "metadata": {
    "execution": {
     "iopub.execute_input": "2024-02-21T07:46:38.374096Z",
     "iopub.status.busy": "2024-02-21T07:46:38.373817Z",
     "iopub.status.idle": "2024-02-21T07:46:38.378423Z",
     "shell.execute_reply": "2024-02-21T07:46:38.377558Z"
    },
    "papermill": {
     "duration": 0.01731,
     "end_time": "2024-02-21T07:46:38.380380",
     "exception": false,
     "start_time": "2024-02-21T07:46:38.363070",
     "status": "completed"
    },
    "tags": []
   },
   "outputs": [],
   "source": [
    "new_pred_df[\"row_id\"] = list(range(len(new_pred_df)))"
   ]
  },
  {
   "cell_type": "code",
   "execution_count": null,
   "id": "08784099",
   "metadata": {
    "execution": {
     "iopub.execute_input": "2024-02-21T07:46:38.401968Z",
     "iopub.status.busy": "2024-02-21T07:46:38.401694Z",
     "iopub.status.idle": "2024-02-21T07:46:38.410877Z",
     "shell.execute_reply": "2024-02-21T07:46:38.409958Z"
    },
    "papermill": {
     "duration": 0.021858,
     "end_time": "2024-02-21T07:46:38.412875",
     "exception": false,
     "start_time": "2024-02-21T07:46:38.391017",
     "status": "completed"
    },
    "tags": []
   },
   "outputs": [],
   "source": [
    "new_pred_df[[\"row_id\", \"document\", \"token\", \"label\"]].to_csv(\"submission.csv\", index=False)"
   ]
  },
  {
   "cell_type": "code",
   "execution_count": null,
   "id": "ec226426",
   "metadata": {
    "execution": {
     "iopub.execute_input": "2024-02-21T07:46:38.434002Z",
     "iopub.status.busy": "2024-02-21T07:46:38.433724Z",
     "iopub.status.idle": "2024-02-21T07:46:38.448749Z",
     "shell.execute_reply": "2024-02-21T07:46:38.447873Z"
    },
    "papermill": {
     "duration": 0.028044,
     "end_time": "2024-02-21T07:46:38.450893",
     "exception": false,
     "start_time": "2024-02-21T07:46:38.422849",
     "status": "completed"
    },
    "tags": []
   },
   "outputs": [],
   "source": [
    "new_pred_df[[\"row_id\", \"document\", \"token\", \"label\", \"token_str\"]]"
   ]
  }
 ],
 "metadata": {
  "kaggle": {
   "accelerator": "nvidiaTeslaT4",
   "dataSources": [
    {
     "databundleVersionId": 7500999,
     "sourceId": 66653,
     "sourceType": "competition"
    },
    {
     "datasetId": 4385921,
     "sourceId": 7530253,
     "sourceType": "datasetVersion"
    },
    {
     "datasetId": 4415272,
     "sourceId": 7585184,
     "sourceType": "datasetVersion"
    },
    {
     "datasetId": 4441730,
     "sourceId": 7624642,
     "sourceType": "datasetVersion"
    },
    {
     "datasetId": 4364651,
     "sourceId": 7669053,
     "sourceType": "datasetVersion"
    }
   ],
   "dockerImageVersionId": 30636,
   "isGpuEnabled": true,
   "isInternetEnabled": false,
   "language": "python",
   "sourceType": "notebook"
  },
  "kernelspec": {
   "display_name": "Python 3",
   "language": "python",
   "name": "python3"
  },
  "language_info": {
   "codemirror_mode": {
    "name": "ipython",
    "version": 3
   },
   "file_extension": ".py",
   "mimetype": "text/x-python",
   "name": "python",
   "nbconvert_exporter": "python",
   "pygments_lexer": "ipython3",
   "version": "3.10.12"
  },
  "papermill": {
   "default_parameters": {},
   "duration": 60.549228,
   "end_time": "2024-02-21T07:46:41.247653",
   "environment_variables": {},
   "exception": null,
   "input_path": "__notebook__.ipynb",
   "output_path": "__notebook__.ipynb",
   "parameters": {},
   "start_time": "2024-02-21T07:45:40.698425",
   "version": "2.4.0"
  }
 },
 "nbformat": 4,
 "nbformat_minor": 5
}
