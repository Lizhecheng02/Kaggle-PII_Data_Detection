{
 "cells": [
  {
   "cell_type": "code",
   "execution_count": null,
   "id": "e77a28c8",
   "metadata": {
    "execution": {
     "iopub.execute_input": "2024-02-29T18:10:14.011943Z",
     "iopub.status.busy": "2024-02-29T18:10:14.011127Z",
     "iopub.status.idle": "2024-02-29T18:12:14.066195Z",
     "shell.execute_reply": "2024-02-29T18:12:14.064988Z"
    },
    "papermill": {
     "duration": 120.071628,
     "end_time": "2024-02-29T18:12:14.068864",
     "exception": false,
     "start_time": "2024-02-29T18:10:13.997236",
     "status": "completed"
    },
    "tags": []
   },
   "outputs": [],
   "source": [
    "!pip install /kaggle/input/piidd-installation-package/transformers-4.38.1-py3-none-any.whl -q\n",
    "!pip install /kaggle/input/piidd-installation-package/accelerate-0.27.2-py3-none-any.whl -q\n",
    "!pip install /kaggle/input/piidd-installation-package/bitsandbytes-0.42.0-py3-none-any.whl -q"
   ]
  },
  {
   "cell_type": "code",
   "execution_count": null,
   "id": "3ad60efb",
   "metadata": {
    "_cell_guid": "b1076dfc-b9ad-4769-8c92-a6c4dae69d19",
    "_uuid": "8f2839f25d086af736a60e9eeb907d3b93b6e0e5",
    "execution": {
     "iopub.execute_input": "2024-02-29T18:12:14.093510Z",
     "iopub.status.busy": "2024-02-29T18:12:14.093186Z",
     "iopub.status.idle": "2024-02-29T18:12:45.875721Z",
     "shell.execute_reply": "2024-02-29T18:12:45.874778Z"
    },
    "papermill": {
     "duration": 31.797463,
     "end_time": "2024-02-29T18:12:45.878356",
     "exception": false,
     "start_time": "2024-02-29T18:12:14.080893",
     "status": "completed"
    },
    "tags": []
   },
   "outputs": [],
   "source": [
    "import json\n",
    "import re\n",
    "import argparse\n",
    "import pandas as pd\n",
    "import numpy as np\n",
    "import time\n",
    "import torch\n",
    "from itertools import chain\n",
    "from pathlib import Path\n",
    "from transformers import (\n",
    "    AutoTokenizer,\n",
    "    AutoModelForCausalLM,\n",
    "    AutoModelForTokenClassification,\n",
    "    Trainer,\n",
    "    TrainingArguments,\n",
    "    DataCollatorForTokenClassification,\n",
    "    BitsAndBytesConfig,\n",
    "    pipeline\n",
    ")\n",
    "from datasets import Dataset\n",
    "from torch.utils.data import Dataset, DataLoader\n",
    "from collections import defaultdict\n",
    "from tqdm import tqdm"
   ]
  },
  {
   "cell_type": "code",
   "execution_count": null,
   "id": "58cb97ba",
   "metadata": {
    "execution": {
     "iopub.execute_input": "2024-02-29T18:12:45.905078Z",
     "iopub.status.busy": "2024-02-29T18:12:45.904025Z",
     "iopub.status.idle": "2024-02-29T18:12:45.909065Z",
     "shell.execute_reply": "2024-02-29T18:12:45.908159Z"
    },
    "papermill": {
     "duration": 0.020159,
     "end_time": "2024-02-29T18:12:45.911072",
     "exception": false,
     "start_time": "2024-02-29T18:12:45.890913",
     "status": "completed"
    },
    "tags": []
   },
   "outputs": [],
   "source": [
    "INFERENCE_MAX_LENGTH = 1024\n",
    "INFERENCE_STRIDE = 256\n",
    "TRAINING_MODEL_PATH = [\"/kaggle/input/pii-data-detection-models/checkpoint-900\"]"
   ]
  },
  {
   "cell_type": "code",
   "execution_count": null,
   "id": "71c126c7",
   "metadata": {
    "execution": {
     "iopub.execute_input": "2024-02-29T18:12:45.936385Z",
     "iopub.status.busy": "2024-02-29T18:12:45.936107Z",
     "iopub.status.idle": "2024-02-29T18:12:45.943603Z",
     "shell.execute_reply": "2024-02-29T18:12:45.942601Z"
    },
    "papermill": {
     "duration": 0.021937,
     "end_time": "2024-02-29T18:12:45.945682",
     "exception": false,
     "start_time": "2024-02-29T18:12:45.923745",
     "status": "completed"
    },
    "tags": []
   },
   "outputs": [],
   "source": [
    "id2label = {\n",
    "    0: \"B-EMAIL\",\n",
    "    1: \"B-ID_NUM\",\n",
    "    2: \"B-NAME_STUDENT\",\n",
    "    3: \"B-PHONE_NUM\",\n",
    "    4: \"B-STREET_ADDRESS\",\n",
    "    5: \"B-URL_PERSONAL\",\n",
    "    6: \"B-USERNAME\",\n",
    "    7: \"I-ID_NUM\",\n",
    "    8: \"I-NAME_STUDENT\",\n",
    "    9: \"I-PHONE_NUM\",\n",
    "    10: \"I-STREET_ADDRESS\",\n",
    "    11: \"I-URL_PERSONAL\",\n",
    "    12: \"O\"\n",
    "}\n",
    "\n",
    "label2id = {\n",
    "    \"B-EMAIL\": 0,\n",
    "    \"B-ID_NUM\": 1,\n",
    "    \"B-NAME_STUDENT\": 2,\n",
    "    \"B-PHONE_NUM\": 3,\n",
    "    \"B-STREET_ADDRESS\": 4,\n",
    "    \"B-URL_PERSONAL\": 5,\n",
    "    \"B-USERNAME\": 6,\n",
    "    \"I-ID_NUM\": 7,\n",
    "    \"I-NAME_STUDENT\": 8,\n",
    "    \"I-PHONE_NUM\": 9,\n",
    "    \"I-STREET_ADDRESS\": 10,\n",
    "    \"I-URL_PERSONAL\": 11,\n",
    "    \"O\": 12\n",
    "}\n",
    "\n",
    "all_labels = [\n",
    "    \"B-EMAIL\",\n",
    "    \"B-ID_NUM\",\n",
    "    \"B-NAME_STUDENT\",\n",
    "    \"B-PHONE_NUM\",\n",
    "    \"B-STREET_ADDRESS\",\n",
    "    \"B-URL_PERSONAL\",\n",
    "    \"B-USERNAME\",\n",
    "    \"I-ID_NUM\",\n",
    "    \"I-NAME_STUDENT\",\n",
    "    \"I-PHONE_NUM\",\n",
    "    \"I-STREET_ADDRESS\",\n",
    "    \"I-URL_PERSONAL\",\n",
    "    \"O\"\n",
    "]"
   ]
  },
  {
   "cell_type": "code",
   "execution_count": null,
   "id": "6028f950",
   "metadata": {
    "execution": {
     "iopub.execute_input": "2024-02-29T18:12:45.969760Z",
     "iopub.status.busy": "2024-02-29T18:12:45.969431Z",
     "iopub.status.idle": "2024-02-29T18:12:46.013031Z",
     "shell.execute_reply": "2024-02-29T18:12:46.012157Z"
    },
    "papermill": {
     "duration": 0.058316,
     "end_time": "2024-02-29T18:12:46.015361",
     "exception": false,
     "start_time": "2024-02-29T18:12:45.957045",
     "status": "completed"
    },
    "tags": []
   },
   "outputs": [],
   "source": [
    "df = pd.read_json(\"/kaggle/input/pii-detection-removal-from-educational-data/test.json\")\n",
    "\n",
    "\n",
    "def get_labels(word_ids, word_labels):\n",
    "    label_ids = []\n",
    "    for word_idx in word_ids:\n",
    "        if word_idx is None:\n",
    "            label_ids.append(-100)\n",
    "        else:\n",
    "            label_ids.append(label2id[word_labels[word_idx]])\n",
    "    return label_ids\n",
    "\n",
    "# Tokenize texts, possibly generating more than one tokenized sample for each text\n",
    "\n",
    "\n",
    "def tokenize(df, to_tensor=True, with_labels=True):\n",
    "\n",
    "    # This is what\"s different from a longformer\n",
    "    # Read the parameters with attention\n",
    "    encoded = tokenizer(\n",
    "        df[\"tokens\"].tolist(),\n",
    "        is_split_into_words=True,\n",
    "        return_overflowing_tokens=True,\n",
    "        stride=INFERENCE_STRIDE,\n",
    "        max_length=INFERENCE_MAX_LENGTH,\n",
    "        padding=\"max_length\",\n",
    "        truncation=True\n",
    "    )\n",
    "\n",
    "    if with_labels:\n",
    "        encoded[\"labels\"] = []\n",
    "\n",
    "    encoded[\"wids\"] = []\n",
    "    n = len(encoded[\"overflow_to_sample_mapping\"])\n",
    "    for i in range(n):\n",
    "\n",
    "        # Map back to original row\n",
    "        text_idx = encoded[\"overflow_to_sample_mapping\"][i]\n",
    "\n",
    "        # Get word indexes (this is a global index that takes into consideration the chunking :D )\n",
    "        word_ids = encoded.word_ids(i)\n",
    "\n",
    "        if with_labels:\n",
    "            # Get word labels of the full un-chunked text\n",
    "            word_labels = df[\"labels\"].iloc[text_idx]\n",
    "\n",
    "            # Get the labels associated with the word indexes\n",
    "            label_ids = get_labels(word_ids, word_labels)\n",
    "            encoded[\"labels\"].append(label_ids)\n",
    "\n",
    "        encoded[\"wids\"].append([w if w is not None else -1 for w in word_ids])\n",
    "\n",
    "    if to_tensor:\n",
    "        encoded = {key: torch.as_tensor(val) for key, val in encoded.items()}\n",
    "    return encoded"
   ]
  },
  {
   "cell_type": "code",
   "execution_count": null,
   "id": "a52011d2",
   "metadata": {
    "execution": {
     "iopub.execute_input": "2024-02-29T18:12:46.040197Z",
     "iopub.status.busy": "2024-02-29T18:12:46.039893Z",
     "iopub.status.idle": "2024-02-29T18:12:46.045908Z",
     "shell.execute_reply": "2024-02-29T18:12:46.044957Z"
    },
    "papermill": {
     "duration": 0.021182,
     "end_time": "2024-02-29T18:12:46.048117",
     "exception": false,
     "start_time": "2024-02-29T18:12:46.026935",
     "status": "completed"
    },
    "tags": []
   },
   "outputs": [],
   "source": [
    "class PIIDataset(Dataset):\n",
    "    def __init__(self, tokenized_ds):\n",
    "        self.data = tokenized_ds\n",
    "\n",
    "    def __getitem__(self, index):\n",
    "        item = {k: self.data[k][index] for k in self.data.keys()}\n",
    "        return item\n",
    "\n",
    "    def __len__(self):\n",
    "        return len(self.data[\"input_ids\"])"
   ]
  },
  {
   "cell_type": "code",
   "execution_count": null,
   "id": "461c228e",
   "metadata": {
    "execution": {
     "iopub.execute_input": "2024-02-29T18:12:46.072874Z",
     "iopub.status.busy": "2024-02-29T18:12:46.072068Z",
     "iopub.status.idle": "2024-02-29T18:12:46.081922Z",
     "shell.execute_reply": "2024-02-29T18:12:46.081083Z"
    },
    "papermill": {
     "duration": 0.024069,
     "end_time": "2024-02-29T18:12:46.084100",
     "exception": false,
     "start_time": "2024-02-29T18:12:46.060031",
     "status": "completed"
    },
    "tags": []
   },
   "outputs": [],
   "source": [
    "def inferenceV4(df, dl):\n",
    "\n",
    "    # These 2 dictionaries will hold text-level data\n",
    "    # Helping in the merging process by accumulating data\n",
    "    # Through all the chunks\n",
    "\n",
    "    token_pred = defaultdict(lambda: defaultdict(int))\n",
    "    token_cnt = defaultdict(lambda: defaultdict(int))\n",
    "\n",
    "    for batch in tqdm(dl):\n",
    "        ids = batch[\"input_ids\"].to(\"cuda\")\n",
    "        mask = batch[\"attention_mask\"].to(\"cuda\")\n",
    "        preds = model(ids, attention_mask=mask, return_dict=False)[0].cpu().detach().numpy()\n",
    "        preds_softmax = np.exp(preds) / np.sum(np.exp(preds), axis=2).reshape(preds.shape[0], preds.shape[1], 1)\n",
    "\n",
    "        del ids, mask\n",
    "\n",
    "        # Go over each prediction, getting the text_id reference\n",
    "\n",
    "        for k, (chunk_preds, text_id) in enumerate(zip(preds_softmax, batch[\"overflow_to_sample_mapping\"].tolist())):\n",
    "            # The word_ids are absolute references in the original text\n",
    "            word_ids = batch[\"wids\"][k].numpy()\n",
    "\n",
    "            for idx, word_idx in enumerate(word_ids):\n",
    "                if word_idx != -1:\n",
    "                    token_pred[text_id][word_idx] += chunk_preds[idx]\n",
    "                    token_cnt[text_id][word_idx] += 1\n",
    "\n",
    "    for text_id in token_pred:\n",
    "        for word_idx in token_pred[text_id]:\n",
    "            token_pred[text_id][word_idx] /= token_cnt[text_id][word_idx]\n",
    "\n",
    "    return token_pred"
   ]
  },
  {
   "cell_type": "code",
   "execution_count": null,
   "id": "38ab783a",
   "metadata": {
    "execution": {
     "iopub.execute_input": "2024-02-29T18:12:46.107583Z",
     "iopub.status.busy": "2024-02-29T18:12:46.107308Z",
     "iopub.status.idle": "2024-02-29T18:13:14.270969Z",
     "shell.execute_reply": "2024-02-29T18:13:14.269781Z"
    },
    "papermill": {
     "duration": 28.178227,
     "end_time": "2024-02-29T18:13:14.273412",
     "exception": false,
     "start_time": "2024-02-29T18:12:46.095185",
     "status": "completed"
    },
    "tags": []
   },
   "outputs": [],
   "source": [
    "final_token_pred = defaultdict(lambda: defaultdict(int))\n",
    "for model_path in TRAINING_MODEL_PATH:\n",
    "    tokenizer = AutoTokenizer.from_pretrained(model_path)\n",
    "    tokenized_test = tokenize(df, with_labels=False)\n",
    "\n",
    "    test_dataset = PIIDataset(tokenized_test)\n",
    "    test_dataloader = DataLoader(test_dataset, batch_size=1)\n",
    "    model = AutoModelForTokenClassification.from_pretrained(\n",
    "        model_path,\n",
    "        num_labels=len(all_labels),\n",
    "        id2label=id2label,\n",
    "        label2id=label2id,\n",
    "        ignore_mismatched_sizes=True\n",
    "    )\n",
    "    model.cuda()\n",
    "    token_pred = inferenceV4(df, test_dataloader)\n",
    "    for text_id in token_pred:\n",
    "        for word_idx in token_pred[text_id]:\n",
    "            final_token_pred[text_id][word_idx] += token_pred[text_id][word_idx] / len(TRAINING_MODEL_PATH)"
   ]
  },
  {
   "cell_type": "code",
   "execution_count": null,
   "id": "576e6f12",
   "metadata": {
    "execution": {
     "iopub.execute_input": "2024-02-29T18:13:14.301658Z",
     "iopub.status.busy": "2024-02-29T18:13:14.301359Z",
     "iopub.status.idle": "2024-02-29T18:13:14.362372Z",
     "shell.execute_reply": "2024-02-29T18:13:14.361562Z"
    },
    "papermill": {
     "duration": 0.076651,
     "end_time": "2024-02-29T18:13:14.364422",
     "exception": false,
     "start_time": "2024-02-29T18:13:14.287771",
     "status": "completed"
    },
    "tags": []
   },
   "outputs": [],
   "source": [
    "document, token, label = [], [], []\n",
    "for text_id in final_token_pred:\n",
    "    for word_idx in final_token_pred[text_id]:\n",
    "        pred = final_token_pred[text_id][word_idx].argmax(-1)\n",
    "        pred_without_O = final_token_pred[text_id][word_idx][:12].argmax(-1)\n",
    "        if final_token_pred[text_id][word_idx][12] < 0.55:\n",
    "            final_pred = pred_without_O\n",
    "        else:\n",
    "            final_pred = pred\n",
    "        if id2label[final_pred] != \"O\":\n",
    "            document.append(df.loc[text_id, \"document\"])\n",
    "            token.append(word_idx)\n",
    "            label.append(id2label[final_pred])\n",
    "\n",
    "pred_df = pd.DataFrame({\n",
    "    \"document\": document,\n",
    "    \"token\": token,\n",
    "    \"label\": label\n",
    "})"
   ]
  },
  {
   "cell_type": "code",
   "execution_count": null,
   "id": "50a575f9",
   "metadata": {
    "execution": {
     "iopub.execute_input": "2024-02-29T18:13:14.390456Z",
     "iopub.status.busy": "2024-02-29T18:13:14.390184Z",
     "iopub.status.idle": "2024-02-29T18:13:14.395219Z",
     "shell.execute_reply": "2024-02-29T18:13:14.394285Z"
    },
    "papermill": {
     "duration": 0.020266,
     "end_time": "2024-02-29T18:13:14.397407",
     "exception": false,
     "start_time": "2024-02-29T18:13:14.377141",
     "status": "completed"
    },
    "tags": []
   },
   "outputs": [],
   "source": [
    "def score(row):\n",
    "    doc = row.document\n",
    "    tok = row.token\n",
    "    doc_idx = df.query(\"document == @doc\").index[0]\n",
    "    return token_pred[doc_idx][tok][label2id[row.label]]"
   ]
  },
  {
   "cell_type": "code",
   "execution_count": null,
   "id": "0437f584",
   "metadata": {
    "execution": {
     "iopub.execute_input": "2024-02-29T18:13:14.422514Z",
     "iopub.status.busy": "2024-02-29T18:13:14.422210Z",
     "iopub.status.idle": "2024-02-29T18:13:14.495128Z",
     "shell.execute_reply": "2024-02-29T18:13:14.494093Z"
    },
    "papermill": {
     "duration": 0.088295,
     "end_time": "2024-02-29T18:13:14.497505",
     "exception": false,
     "start_time": "2024-02-29T18:13:14.409210",
     "status": "completed"
    },
    "tags": []
   },
   "outputs": [],
   "source": [
    "pred_df[\"score\"] = pred_df.apply(lambda x: score(x), axis=1)"
   ]
  },
  {
   "cell_type": "markdown",
   "id": "5307aff2",
   "metadata": {
    "papermill": {
     "duration": 0.011997,
     "end_time": "2024-02-29T18:13:14.523264",
     "exception": false,
     "start_time": "2024-02-29T18:13:14.511267",
     "status": "completed"
    },
    "tags": []
   },
   "source": [
    "## Post-Process "
   ]
  },
  {
   "cell_type": "code",
   "execution_count": null,
   "id": "18d53934",
   "metadata": {
    "execution": {
     "iopub.execute_input": "2024-02-29T18:13:14.594319Z",
     "iopub.status.busy": "2024-02-29T18:13:14.593590Z",
     "iopub.status.idle": "2024-02-29T18:13:14.605896Z",
     "shell.execute_reply": "2024-02-29T18:13:14.604761Z"
    },
    "papermill": {
     "duration": 0.028213,
     "end_time": "2024-02-29T18:13:14.608138",
     "exception": false,
     "start_time": "2024-02-29T18:13:14.579925",
     "status": "completed"
    },
    "tags": []
   },
   "outputs": [],
   "source": [
    "df = df[[\"document\", \"tokens\"]].copy()"
   ]
  },
  {
   "cell_type": "code",
   "execution_count": null,
   "id": "724d245c",
   "metadata": {
    "execution": {
     "iopub.execute_input": "2024-02-29T18:13:14.636158Z",
     "iopub.status.busy": "2024-02-29T18:13:14.635796Z",
     "iopub.status.idle": "2024-02-29T18:13:14.658581Z",
     "shell.execute_reply": "2024-02-29T18:13:14.657599Z"
    },
    "papermill": {
     "duration": 0.039319,
     "end_time": "2024-02-29T18:13:14.660606",
     "exception": false,
     "start_time": "2024-02-29T18:13:14.621287",
     "status": "completed"
    },
    "tags": []
   },
   "outputs": [],
   "source": [
    "df = df.explode([\"tokens\"]).reset_index(drop=True).rename(columns={\"tokens\": \"token\"})"
   ]
  },
  {
   "cell_type": "code",
   "execution_count": null,
   "id": "e996c3ec",
   "metadata": {
    "execution": {
     "iopub.execute_input": "2024-02-29T18:13:14.686626Z",
     "iopub.status.busy": "2024-02-29T18:13:14.686263Z",
     "iopub.status.idle": "2024-02-29T18:13:14.697101Z",
     "shell.execute_reply": "2024-02-29T18:13:14.695981Z"
    },
    "papermill": {
     "duration": 0.026188,
     "end_time": "2024-02-29T18:13:14.699178",
     "exception": false,
     "start_time": "2024-02-29T18:13:14.672990",
     "status": "completed"
    },
    "tags": []
   },
   "outputs": [],
   "source": [
    "df[\"token_str\"] = df[\"token\"]\n",
    "df[\"token\"] = df.groupby(\"document\").cumcount()"
   ]
  },
  {
   "cell_type": "code",
   "execution_count": null,
   "id": "1ee97502",
   "metadata": {
    "execution": {
     "iopub.execute_input": "2024-02-29T18:13:14.725331Z",
     "iopub.status.busy": "2024-02-29T18:13:14.724690Z",
     "iopub.status.idle": "2024-02-29T18:13:14.741159Z",
     "shell.execute_reply": "2024-02-29T18:13:14.739996Z"
    },
    "papermill": {
     "duration": 0.032457,
     "end_time": "2024-02-29T18:13:14.743578",
     "exception": false,
     "start_time": "2024-02-29T18:13:14.711121",
     "status": "completed"
    },
    "tags": []
   },
   "outputs": [],
   "source": [
    "new_pred_df = pd.merge(df, pred_df[[\"document\", \"token\", \"label\", \"score\"]], on=[\"document\", \"token\"], how=\"left\")\n",
    "new_pred_df[\"label\"] = new_pred_df[\"label\"].fillna(\"O\")"
   ]
  },
  {
   "cell_type": "code",
   "execution_count": null,
   "id": "d7840476",
   "metadata": {
    "execution": {
     "iopub.execute_input": "2024-02-29T18:13:14.773330Z",
     "iopub.status.busy": "2024-02-29T18:13:14.772991Z",
     "iopub.status.idle": "2024-02-29T18:13:14.790735Z",
     "shell.execute_reply": "2024-02-29T18:13:14.789745Z"
    },
    "papermill": {
     "duration": 0.035861,
     "end_time": "2024-02-29T18:13:14.793098",
     "exception": false,
     "start_time": "2024-02-29T18:13:14.757237",
     "status": "completed"
    },
    "tags": []
   },
   "outputs": [],
   "source": [
    "def pp(new_pred_df):\n",
    "    df = new_pred_df.copy()\n",
    "    i = 0\n",
    "    while i < len(df):\n",
    "        st = i\n",
    "        doc = df.loc[st, \"document\"]\n",
    "        tok = df.loc[st, \"token\"]\n",
    "        pred_tok = df.loc[st, \"label\"]\n",
    "        if pred_tok == \"O\":\n",
    "            i += 1\n",
    "            continue\n",
    "        lab = pred_tok.split(\"-\")[1]\n",
    "        cur_doc = doc\n",
    "        cur_lab = lab\n",
    "        last_tok = tok\n",
    "        cur_tok = last_tok\n",
    "\n",
    "        while i < len(df) and cur_doc == doc and cur_lab == lab and last_tok == cur_tok:\n",
    "            last_tok = cur_tok + 1\n",
    "            i += 1\n",
    "            cur_doc = df.loc[i, \"document\"]\n",
    "            cur_tok = df.loc[i, \"token\"]\n",
    "            if i >= len(df) or df.loc[i, \"label\"] == \"O\":\n",
    "                break\n",
    "            cur_lab = df.loc[i, \"label\"].split(\"-\")[1]\n",
    "\n",
    "        # exception\n",
    "        if st - 2 >= 0 and df.loc[st - 2, \"document\"] == df.loc[st, \"document\"] and df.loc[st - 1, \"token_str\"] == \"\\n\" and df.loc[st - 2, \"label\"] != \"O\" and df.loc[st - 2, \"label\"].split(\"-\")[1] == lab:\n",
    "            df.loc[st - 1, \"label\"] = \"I-\" + lab\n",
    "            df.loc[st - 1, \"score\"] = 1\n",
    "            for j in range(st, i):\n",
    "                if df.loc[j, \"label\"] != \"I-\" + lab:\n",
    "                    df.loc[j, \"score\"] = 1\n",
    "                    df.loc[j, \"label\"] = \"I-\" + lab\n",
    "            continue\n",
    "\n",
    "        # fix\n",
    "        for j in range(st, i):\n",
    "            if j == st:\n",
    "                if df.loc[j, \"label\"] != \"B-\" + lab:\n",
    "                    df.loc[j, \"score\"] = 1\n",
    "                    df.loc[j, \"label\"] = \"B-\" + lab\n",
    "            else:\n",
    "                if df.loc[j, \"label\"] != \"I-\" + lab:\n",
    "                    df.loc[j, \"score\"] = 1\n",
    "                    df.loc[j, \"label\"] = \"I-\" + lab\n",
    "\n",
    "        if lab == \"NAME_STUDENT\" and any(len(item) == 2 and item[0].isupper() and item[1] == \".\" for item in df.loc[st:i - 1, \"token_str\"]):\n",
    "            for j in range(st, i):\n",
    "                df.loc[j, \"score\"] = 0\n",
    "                df.loc[j, \"label\"] = \"O\"\n",
    "\n",
    "    return df"
   ]
  },
  {
   "cell_type": "code",
   "execution_count": null,
   "id": "e1163dd4",
   "metadata": {
    "execution": {
     "iopub.execute_input": "2024-02-29T18:13:14.821675Z",
     "iopub.status.busy": "2024-02-29T18:13:14.821372Z",
     "iopub.status.idle": "2024-02-29T18:13:15.265341Z",
     "shell.execute_reply": "2024-02-29T18:13:15.264419Z"
    },
    "papermill": {
     "duration": 0.461199,
     "end_time": "2024-02-29T18:13:15.268117",
     "exception": false,
     "start_time": "2024-02-29T18:13:14.806918",
     "status": "completed"
    },
    "tags": []
   },
   "outputs": [],
   "source": [
    "new_pred_df = pp(new_pred_df)"
   ]
  },
  {
   "cell_type": "code",
   "execution_count": null,
   "id": "c0cdf9bd",
   "metadata": {
    "execution": {
     "iopub.execute_input": "2024-02-29T18:13:15.295926Z",
     "iopub.status.busy": "2024-02-29T18:13:15.295010Z",
     "iopub.status.idle": "2024-02-29T18:13:15.315997Z",
     "shell.execute_reply": "2024-02-29T18:13:15.314905Z"
    },
    "papermill": {
     "duration": 0.037274,
     "end_time": "2024-02-29T18:13:15.318320",
     "exception": false,
     "start_time": "2024-02-29T18:13:15.281046",
     "status": "completed"
    },
    "tags": []
   },
   "outputs": [],
   "source": [
    "new_pred_df"
   ]
  },
  {
   "cell_type": "code",
   "execution_count": null,
   "id": "5a9e45ea",
   "metadata": {
    "execution": {
     "iopub.execute_input": "2024-02-29T18:13:15.346319Z",
     "iopub.status.busy": "2024-02-29T18:13:15.345950Z",
     "iopub.status.idle": "2024-02-29T18:13:15.355650Z",
     "shell.execute_reply": "2024-02-29T18:13:15.354563Z"
    },
    "papermill": {
     "duration": 0.026093,
     "end_time": "2024-02-29T18:13:15.358160",
     "exception": false,
     "start_time": "2024-02-29T18:13:15.332067",
     "status": "completed"
    },
    "tags": []
   },
   "outputs": [],
   "source": [
    "new_pred_df = new_pred_df.query(\"label != 'O'\").reset_index(drop=True)"
   ]
  },
  {
   "cell_type": "code",
   "execution_count": null,
   "id": "01df3dbd",
   "metadata": {
    "execution": {
     "iopub.execute_input": "2024-02-29T18:13:15.385576Z",
     "iopub.status.busy": "2024-02-29T18:13:15.385262Z",
     "iopub.status.idle": "2024-02-29T18:13:15.394490Z",
     "shell.execute_reply": "2024-02-29T18:13:15.393551Z"
    },
    "papermill": {
     "duration": 0.025006,
     "end_time": "2024-02-29T18:13:15.396558",
     "exception": false,
     "start_time": "2024-02-29T18:13:15.371552",
     "status": "completed"
    },
    "tags": []
   },
   "outputs": [],
   "source": [
    "rows_to_delete = []\n",
    "for idx, row in new_pred_df.iterrows():\n",
    "    if row.label == \"I-PHONE_NUM\":\n",
    "        if row.token_str == \")\":\n",
    "            rows_to_delete.append(idx)\n",
    "        elif not bool(re.search(r\"\\d\", row.token_str)):\n",
    "            rows_to_delete.append(idx)\n",
    "    elif row.label == \"B-EMAIL\":\n",
    "        if \"@\" not in row.token_str:\n",
    "            rows_to_delete.append(idx)"
   ]
  },
  {
   "cell_type": "code",
   "execution_count": null,
   "id": "a5270162",
   "metadata": {
    "execution": {
     "iopub.execute_input": "2024-02-29T18:13:15.423215Z",
     "iopub.status.busy": "2024-02-29T18:13:15.422895Z",
     "iopub.status.idle": "2024-02-29T18:13:15.428256Z",
     "shell.execute_reply": "2024-02-29T18:13:15.427413Z"
    },
    "papermill": {
     "duration": 0.021097,
     "end_time": "2024-02-29T18:13:15.430264",
     "exception": false,
     "start_time": "2024-02-29T18:13:15.409167",
     "status": "completed"
    },
    "tags": []
   },
   "outputs": [],
   "source": [
    "new_pred_df = new_pred_df.drop(rows_to_delete, axis=0, inplace=False)"
   ]
  },
  {
   "cell_type": "code",
   "execution_count": null,
   "id": "ec51b1b5",
   "metadata": {
    "execution": {
     "iopub.execute_input": "2024-02-29T18:13:15.457303Z",
     "iopub.status.busy": "2024-02-29T18:13:15.456972Z",
     "iopub.status.idle": "2024-02-29T18:13:15.462180Z",
     "shell.execute_reply": "2024-02-29T18:13:15.461265Z"
    },
    "papermill": {
     "duration": 0.021043,
     "end_time": "2024-02-29T18:13:15.464173",
     "exception": false,
     "start_time": "2024-02-29T18:13:15.443130",
     "status": "completed"
    },
    "tags": []
   },
   "outputs": [],
   "source": [
    "new_pred_df[\"row_id\"] = list(range(len(new_pred_df)))"
   ]
  },
  {
   "cell_type": "code",
   "execution_count": null,
   "id": "b79669d6",
   "metadata": {
    "execution": {
     "iopub.execute_input": "2024-02-29T18:13:15.490742Z",
     "iopub.status.busy": "2024-02-29T18:13:15.490417Z",
     "iopub.status.idle": "2024-02-29T18:13:15.499067Z",
     "shell.execute_reply": "2024-02-29T18:13:15.498350Z"
    },
    "papermill": {
     "duration": 0.024117,
     "end_time": "2024-02-29T18:13:15.501075",
     "exception": false,
     "start_time": "2024-02-29T18:13:15.476958",
     "status": "completed"
    },
    "tags": []
   },
   "outputs": [],
   "source": [
    "new_pred_df[[\"row_id\", \"document\", \"token\", \"label\"]].to_csv(\"submission.csv\", index=False)"
   ]
  },
  {
   "cell_type": "code",
   "execution_count": null,
   "id": "9b034b87",
   "metadata": {
    "execution": {
     "iopub.execute_input": "2024-02-29T18:13:15.527658Z",
     "iopub.status.busy": "2024-02-29T18:13:15.527322Z",
     "iopub.status.idle": "2024-02-29T18:13:15.542624Z",
     "shell.execute_reply": "2024-02-29T18:13:15.541704Z"
    },
    "papermill": {
     "duration": 0.031362,
     "end_time": "2024-02-29T18:13:15.544775",
     "exception": false,
     "start_time": "2024-02-29T18:13:15.513413",
     "status": "completed"
    },
    "tags": []
   },
   "outputs": [],
   "source": [
    "new_pred_df[[\"row_id\", \"document\", \"token\", \"label\", \"token_str\"]]"
   ]
  },
  {
   "cell_type": "code",
   "execution_count": null,
   "id": "7256d9ce",
   "metadata": {
    "execution": {
     "iopub.execute_input": "2024-02-29T18:13:15.576008Z",
     "iopub.status.busy": "2024-02-29T18:13:15.575645Z",
     "iopub.status.idle": "2024-02-29T18:13:15.582499Z",
     "shell.execute_reply": "2024-02-29T18:13:15.581702Z"
    },
    "papermill": {
     "duration": 0.024816,
     "end_time": "2024-02-29T18:13:15.584567",
     "exception": false,
     "start_time": "2024-02-29T18:13:15.559751",
     "status": "completed"
    },
    "tags": []
   },
   "outputs": [],
   "source": [
    "new_pred_df[[\"row_id\", \"document\", \"token\", \"label\", \"token_str\"]].to_csv(\"output.csv\", index=False)"
   ]
  },
  {
   "cell_type": "markdown",
   "id": "692063e9",
   "metadata": {
    "papermill": {
     "duration": 0.012855,
     "end_time": "2024-02-29T18:13:15.611236",
     "exception": false,
     "start_time": "2024-02-29T18:13:15.598381",
     "status": "completed"
    },
    "tags": []
   },
   "source": [
    "## LLM Post-Process"
   ]
  },
  {
   "cell_type": "code",
   "execution_count": null,
   "id": "318da55c",
   "metadata": {
    "execution": {
     "iopub.execute_input": "2024-02-29T18:13:15.639778Z",
     "iopub.status.busy": "2024-02-29T18:13:15.639429Z",
     "iopub.status.idle": "2024-02-29T18:13:15.644020Z",
     "shell.execute_reply": "2024-02-29T18:13:15.643098Z"
    },
    "papermill": {
     "duration": 0.021265,
     "end_time": "2024-02-29T18:13:15.645952",
     "exception": false,
     "start_time": "2024-02-29T18:13:15.624687",
     "status": "completed"
    },
    "tags": []
   },
   "outputs": [],
   "source": [
    "bnb_config = BitsAndBytesConfig(\n",
    "    # load_in_4bit=True,\n",
    "    # bnb_4bit_quant_type=\"nf4\",\n",
    "    # bnb_4bit_use_double_quant=True,\n",
    "    # bnb_4bit_compute_dtype=torch.float16\n",
    "    load_in_8bit=True\n",
    ")"
   ]
  },
  {
   "cell_type": "code",
   "execution_count": null,
   "id": "59ddad11",
   "metadata": {
    "execution": {
     "iopub.execute_input": "2024-02-29T18:13:15.673586Z",
     "iopub.status.busy": "2024-02-29T18:13:15.673289Z",
     "iopub.status.idle": "2024-02-29T18:16:21.570855Z",
     "shell.execute_reply": "2024-02-29T18:16:21.569876Z"
    },
    "papermill": {
     "duration": 185.914274,
     "end_time": "2024-02-29T18:16:21.573566",
     "exception": false,
     "start_time": "2024-02-29T18:13:15.659292",
     "status": "completed"
    },
    "tags": []
   },
   "outputs": [],
   "source": [
    "model_name = \"/kaggle/input/mistral/pytorch/7b-instruct-v0.1-hf/1\"\n",
    "# model_name = \"HanNayeoniee/LHK_DPO_v1\"\n",
    "# model_name = \"openchat/openchat-3.5-0106\"\n",
    "\n",
    "tokenizer = AutoTokenizer.from_pretrained(model_name)\n",
    "model = AutoModelForCausalLM.from_pretrained(\n",
    "    model_name,\n",
    "    # quantization_config=bnb_config,\n",
    "    torch_dtype=torch.float16,\n",
    "    device_map=\"auto\",\n",
    "    trust_remote_code=True,\n",
    ")"
   ]
  },
  {
   "cell_type": "code",
   "execution_count": null,
   "id": "63c318a3",
   "metadata": {
    "execution": {
     "iopub.execute_input": "2024-02-29T18:16:21.605589Z",
     "iopub.status.busy": "2024-02-29T18:16:21.605213Z",
     "iopub.status.idle": "2024-02-29T18:16:21.610775Z",
     "shell.execute_reply": "2024-02-29T18:16:21.609763Z"
    },
    "papermill": {
     "duration": 0.024059,
     "end_time": "2024-02-29T18:16:21.612989",
     "exception": false,
     "start_time": "2024-02-29T18:16:21.588930",
     "status": "completed"
    },
    "tags": []
   },
   "outputs": [],
   "source": [
    "pipe = pipeline(\n",
    "    \"text-generation\",\n",
    "    model=model,\n",
    "    tokenizer=tokenizer,\n",
    "    torch_dtype=torch.float16,\n",
    "    device_map=\"auto\"\n",
    ")"
   ]
  },
  {
   "cell_type": "code",
   "execution_count": null,
   "id": "01e09b79",
   "metadata": {
    "execution": {
     "iopub.execute_input": "2024-02-29T18:16:21.646150Z",
     "iopub.status.busy": "2024-02-29T18:16:21.645658Z",
     "iopub.status.idle": "2024-02-29T18:16:21.652034Z",
     "shell.execute_reply": "2024-02-29T18:16:21.650996Z"
    },
    "papermill": {
     "duration": 0.026673,
     "end_time": "2024-02-29T18:16:21.654193",
     "exception": false,
     "start_time": "2024-02-29T18:16:21.627520",
     "status": "completed"
    },
    "tags": []
   },
   "outputs": [],
   "source": [
    "df = new_pred_df[[\"row_id\", \"document\", \"token\", \"label\", \"token_str\"]]"
   ]
  },
  {
   "cell_type": "code",
   "execution_count": null,
   "id": "1fc1bb5c",
   "metadata": {
    "execution": {
     "iopub.execute_input": "2024-02-29T18:16:21.685620Z",
     "iopub.status.busy": "2024-02-29T18:16:21.684931Z",
     "iopub.status.idle": "2024-02-29T18:16:21.694530Z",
     "shell.execute_reply": "2024-02-29T18:16:21.693496Z"
    },
    "papermill": {
     "duration": 0.028069,
     "end_time": "2024-02-29T18:16:21.697213",
     "exception": false,
     "start_time": "2024-02-29T18:16:21.669144",
     "status": "completed"
    },
    "tags": []
   },
   "outputs": [],
   "source": [
    "unique_documents = df[\"document\"].unique()\n",
    "unique_documents"
   ]
  },
  {
   "cell_type": "code",
   "execution_count": null,
   "id": "2a8ddaf3",
   "metadata": {
    "execution": {
     "iopub.execute_input": "2024-02-29T18:16:21.730269Z",
     "iopub.status.busy": "2024-02-29T18:16:21.729429Z",
     "iopub.status.idle": "2024-02-29T18:16:21.739966Z",
     "shell.execute_reply": "2024-02-29T18:16:21.739008Z"
    },
    "papermill": {
     "duration": 0.02887,
     "end_time": "2024-02-29T18:16:21.742295",
     "exception": false,
     "start_time": "2024-02-29T18:16:21.713425",
     "status": "completed"
    },
    "tags": []
   },
   "outputs": [],
   "source": [
    "new_df = pd.DataFrame(columns=[\"document\", \"token\", \"label\"])\n",
    "new_df.head()"
   ]
  },
  {
   "cell_type": "code",
   "execution_count": null,
   "id": "4af46949",
   "metadata": {
    "execution": {
     "iopub.execute_input": "2024-02-29T18:16:21.773976Z",
     "iopub.status.busy": "2024-02-29T18:16:21.773623Z",
     "iopub.status.idle": "2024-02-29T18:16:21.786326Z",
     "shell.execute_reply": "2024-02-29T18:16:21.785493Z"
    },
    "papermill": {
     "duration": 0.031225,
     "end_time": "2024-02-29T18:16:21.788411",
     "exception": false,
     "start_time": "2024-02-29T18:16:21.757186",
     "status": "completed"
    },
    "tags": []
   },
   "outputs": [],
   "source": [
    "test = pd.read_json(\"/kaggle/input/pii-detection-removal-from-educational-data/test.json\")"
   ]
  },
  {
   "cell_type": "code",
   "execution_count": null,
   "id": "d0979f65",
   "metadata": {
    "execution": {
     "iopub.execute_input": "2024-02-29T18:16:21.816943Z",
     "iopub.status.busy": "2024-02-29T18:16:21.816251Z",
     "iopub.status.idle": "2024-02-29T18:16:21.822264Z",
     "shell.execute_reply": "2024-02-29T18:16:21.821515Z"
    },
    "papermill": {
     "duration": 0.021991,
     "end_time": "2024-02-29T18:16:21.824251",
     "exception": false,
     "start_time": "2024-02-29T18:16:21.802260",
     "status": "completed"
    },
    "tags": []
   },
   "outputs": [],
   "source": [
    "def get_response(name, document, test):\n",
    "    input_str = f\"I'll give you a name, and you need to tell me if it's a normal person name, cited name or even not a name. Do not consider other factors.\\nExample:\\n- Is Matt Johnson a normal person name? Answer: Yes\\n- Is Johnson. T a normal person name? Answer: No, this is likely a cited name.\\n- Is Andsgjdu a normal person name? Answer: No, it is even not a name.\\nNow the question is:\\n- Is {name} a normal person name? Answer:\"\n",
    "\n",
    "    sequences = pipe(\n",
    "        input_str,\n",
    "        do_sample=True,\n",
    "        max_new_tokens=10,\n",
    "        temperature=0.01,\n",
    "        top_k=50,\n",
    "        top_p=0.95,\n",
    "        num_return_sequences=1\n",
    "    )\n",
    "\n",
    "    generated_text = sequences[0][\"generated_text\"]\n",
    "    answer = generated_text[len(input_str):]\n",
    "\n",
    "    return answer"
   ]
  },
  {
   "cell_type": "code",
   "execution_count": null,
   "id": "04a0caee",
   "metadata": {
    "execution": {
     "iopub.execute_input": "2024-02-29T18:16:21.852769Z",
     "iopub.status.busy": "2024-02-29T18:16:21.852221Z",
     "iopub.status.idle": "2024-02-29T18:16:32.824039Z",
     "shell.execute_reply": "2024-02-29T18:16:32.822777Z"
    },
    "papermill": {
     "duration": 10.989178,
     "end_time": "2024-02-29T18:16:32.826941",
     "exception": false,
     "start_time": "2024-02-29T18:16:21.837763",
     "status": "completed"
    },
    "tags": []
   },
   "outputs": [],
   "source": [
    "%%time\n",
    "\n",
    "cnt = 0\n",
    "for doc_idx, document in tqdm(enumerate(unique_documents), total=len(unique_documents)):\n",
    "    tmp_df = df[df[\"document\"] == document]\n",
    "    tmp_df.reset_index(drop=True, inplace=True)\n",
    "    if \"B-NAME_STUDENT\" in tmp_df[\"label\"].unique().tolist():\n",
    "        cnt += 1\n",
    "        if cnt <= 20000:\n",
    "            idx = 0\n",
    "            name = []\n",
    "            name_dict = {}\n",
    "            while idx < len(tmp_df):\n",
    "                row = tmp_df.iloc[idx]\n",
    "                if row[\"label\"] == \"B-NAME_STUDENT\":\n",
    "                    start_idx = idx\n",
    "                    name.append(row[\"token_str\"])\n",
    "\n",
    "                    # 假设现在这个B就已经是最后了，那么我们需要检测他是否为一个名字\n",
    "                    if idx == len(tmp_df) - 1:\n",
    "                        final_name = \" \".join(name)\n",
    "                        name = []\n",
    "                        if final_name in name_dict:\n",
    "                            new_df = pd.concat([new_df, tmp_df.loc[idx:idx, [\"document\", \"token\", \"label\"]]])\n",
    "                            idx += 1\n",
    "                        else:\n",
    "                            name_dict[final_name] = 1\n",
    "                            response = get_response(final_name, document, test)\n",
    "                            if \"yes\" in response.lower().strip():\n",
    "                                new_df = pd.concat([new_df, tmp_df.loc[idx:idx, [\"document\", \"token\", \"label\"]]])\n",
    "                                idx += 1\n",
    "                            elif \"no\" in response.lower().strip():\n",
    "                                idx += 1\n",
    "                            else:\n",
    "                                new_df = pd.concat([new_df, tmp_df.loc[idx:idx, [\"document\", \"token\", \"label\"]]])\n",
    "                                idx += 1\n",
    "\n",
    "                    while idx < len(tmp_df) - 1:\n",
    "                        tmp_idx = idx + 1\n",
    "                        next_row = tmp_df.iloc[tmp_idx]\n",
    "\n",
    "                        if next_row[\"label\"] == \"I-NAME_STUDENT\":\n",
    "                            name.append(next_row[\"token_str\"])\n",
    "                            idx = tmp_idx\n",
    "\n",
    "                            #假设I是最后一行，那么我们也需要直接进行处理\n",
    "                            if idx == len(tmp_df) - 1:\n",
    "                                final_name = \" \".join(name)\n",
    "                                name = []\n",
    "                                if final_name in name_dict:\n",
    "                                    new_df = pd.concat([new_df, tmp_df.loc[start_idx:, [\"document\", \"token\", \"label\"]]])\n",
    "                                    idx += 1\n",
    "                                    break\n",
    "                                else:\n",
    "                                    name_dict[final_name] = 1\n",
    "                                    response = get_response(final_name, document, test)\n",
    "                                    if \"yes\" in response.lower().strip():\n",
    "                                        new_df = pd.concat([new_df, tmp_df.loc[start_idx:, [\"document\", \"token\", \"label\"]]])\n",
    "                                        idx += 1\n",
    "                                        break\n",
    "                                    elif \"no\" in response.lower().strip():\n",
    "                                        idx += 1\n",
    "                                        break\n",
    "                                    else:\n",
    "                                        new_df = pd.concat([new_df, tmp_df.loc[start_idx:, [\"document\", \"token\", \"label\"]]])\n",
    "                                        idx += 1\n",
    "                                        break\n",
    "\n",
    "                        else:\n",
    "                            final_name = \" \".join(name)\n",
    "                            name = []\n",
    "                            if final_name in name_dict:\n",
    "                                new_df = pd.concat([new_df, tmp_df.loc[start_idx:idx, [\"document\", \"token\", \"label\"]]])\n",
    "                                idx = tmp_idx\n",
    "                                break\n",
    "                            else:\n",
    "                                name_dict[final_name] = 1\n",
    "                                response = get_response(final_name, document, test)\n",
    "                                if \"yes\" in response.lower().strip():\n",
    "                                    new_df = pd.concat([new_df, tmp_df.loc[start_idx:idx, [\"document\", \"token\", \"label\"]]])\n",
    "                                    idx = tmp_idx\n",
    "                                    break\n",
    "                                elif \"no\" in response.lower().strip():\n",
    "                                    idx = tmp_idx\n",
    "                                    break\n",
    "                                else:\n",
    "                                    new_df = pd.concat([new_df, tmp_df.loc[start_idx:idx, [\"document\", \"token\", \"label\"]]])\n",
    "                                    idx = tmp_idx\n",
    "                                    break\n",
    "                else:\n",
    "                    new_df = pd.concat([new_df, tmp_df.loc[idx:idx, [\"document\", \"token\", \"label\"]]])\n",
    "                    idx += 1\n",
    "        else:\n",
    "            new_df = pd.concat([new_df, tmp_df.loc[:, [\"document\", \"token\", \"label\"]]])\n",
    "    else:\n",
    "        new_df = pd.concat([new_df, tmp_df.loc[:, [\"document\", \"token\", \"label\"]]])"
   ]
  },
  {
   "cell_type": "code",
   "execution_count": null,
   "id": "d83542df",
   "metadata": {
    "execution": {
     "iopub.execute_input": "2024-02-29T18:16:32.864210Z",
     "iopub.status.busy": "2024-02-29T18:16:32.863804Z",
     "iopub.status.idle": "2024-02-29T18:16:32.880613Z",
     "shell.execute_reply": "2024-02-29T18:16:32.879610Z"
    },
    "papermill": {
     "duration": 0.037783,
     "end_time": "2024-02-29T18:16:32.882989",
     "exception": false,
     "start_time": "2024-02-29T18:16:32.845206",
     "status": "completed"
    },
    "tags": []
   },
   "outputs": [],
   "source": [
    "new_df.reset_index(drop=True, inplace=True)\n",
    "row_id = pd.Series(range(len(new_df)), name=\"row_id\")\n",
    "new_df.insert(0, \"row_id\", row_id)\n",
    "new_df.head(50)"
   ]
  },
  {
   "cell_type": "code",
   "execution_count": null,
   "id": "e5cc19ea",
   "metadata": {
    "execution": {
     "iopub.execute_input": "2024-02-29T18:16:32.920199Z",
     "iopub.status.busy": "2024-02-29T18:16:32.919363Z",
     "iopub.status.idle": "2024-02-29T18:16:32.925503Z",
     "shell.execute_reply": "2024-02-29T18:16:32.924671Z"
    },
    "papermill": {
     "duration": 0.027037,
     "end_time": "2024-02-29T18:16:32.927676",
     "exception": false,
     "start_time": "2024-02-29T18:16:32.900639",
     "status": "completed"
    },
    "tags": []
   },
   "outputs": [],
   "source": [
    "new_df.to_csv(\"submission.csv\", index=False)"
   ]
  }
 ],
 "metadata": {
  "kaggle": {
   "accelerator": "nvidiaTeslaT4",
   "dataSources": [
    {
     "databundleVersionId": 7500999,
     "sourceId": 66653,
     "sourceType": "competition"
    },
    {
     "datasetId": 4385921,
     "sourceId": 7530253,
     "sourceType": "datasetVersion"
    },
    {
     "datasetId": 4415272,
     "sourceId": 7585184,
     "sourceType": "datasetVersion"
    },
    {
     "datasetId": 4441730,
     "sourceId": 7624642,
     "sourceType": "datasetVersion"
    },
    {
     "datasetId": 4364651,
     "isSourceIdPinned": true,
     "sourceId": 7669053,
     "sourceType": "datasetVersion"
    },
    {
     "datasetId": 4495722,
     "sourceId": 7701584,
     "sourceType": "datasetVersion"
    },
    {
     "modelInstanceId": 3900,
     "sourceId": 5112,
     "sourceType": "modelInstanceVersion"
    }
   ],
   "dockerImageVersionId": 30636,
   "isGpuEnabled": true,
   "isInternetEnabled": false,
   "language": "python",
   "sourceType": "notebook"
  },
  "kernelspec": {
   "display_name": "Python 3",
   "language": "python",
   "name": "python3"
  },
  "language_info": {
   "codemirror_mode": {
    "name": "ipython",
    "version": 3
   },
   "file_extension": ".py",
   "mimetype": "text/x-python",
   "name": "python",
   "nbconvert_exporter": "python",
   "pygments_lexer": "ipython3",
   "version": "3.10.12"
  },
  "papermill": {
   "default_parameters": {},
   "duration": 387.691031,
   "end_time": "2024-02-29T18:16:36.720265",
   "environment_variables": {},
   "exception": null,
   "input_path": "__notebook__.ipynb",
   "output_path": "__notebook__.ipynb",
   "parameters": {},
   "start_time": "2024-02-29T18:10:09.029234",
   "version": "2.4.0"
  },
  "widgets": {
   "application/vnd.jupyter.widget-state+json": {
    "state": {
     "0084560d70404935af19a15292ca26e2": {
      "model_module": "@jupyter-widgets/controls",
      "model_module_version": "1.5.0",
      "model_name": "ProgressStyleModel",
      "state": {
       "_model_module": "@jupyter-widgets/controls",
       "_model_module_version": "1.5.0",
       "_model_name": "ProgressStyleModel",
       "_view_count": null,
       "_view_module": "@jupyter-widgets/base",
       "_view_module_version": "1.2.0",
       "_view_name": "StyleView",
       "bar_color": null,
       "description_width": ""
      }
     },
     "2dbbf411a6e140cca51ba5257b95efab": {
      "model_module": "@jupyter-widgets/controls",
      "model_module_version": "1.5.0",
      "model_name": "DescriptionStyleModel",
      "state": {
       "_model_module": "@jupyter-widgets/controls",
       "_model_module_version": "1.5.0",
       "_model_name": "DescriptionStyleModel",
       "_view_count": null,
       "_view_module": "@jupyter-widgets/base",
       "_view_module_version": "1.2.0",
       "_view_name": "StyleView",
       "description_width": ""
      }
     },
     "342e882589664d5c916cd567d26f2f89": {
      "model_module": "@jupyter-widgets/controls",
      "model_module_version": "1.5.0",
      "model_name": "HTMLModel",
      "state": {
       "_dom_classes": [],
       "_model_module": "@jupyter-widgets/controls",
       "_model_module_version": "1.5.0",
       "_model_name": "HTMLModel",
       "_view_count": null,
       "_view_module": "@jupyter-widgets/controls",
       "_view_module_version": "1.5.0",
       "_view_name": "HTMLView",
       "description": "",
       "description_tooltip": null,
       "layout": "IPY_MODEL_46cd529ec6c54e6a873794fd720eccc4",
       "placeholder": "​",
       "style": "IPY_MODEL_73d46093cd2640309a9d1a0db3cd5d30",
       "value": "Loading checkpoint shards: 100%"
      }
     },
     "38b6c701b73d4c67a2882e07cea7b92b": {
      "model_module": "@jupyter-widgets/controls",
      "model_module_version": "1.5.0",
      "model_name": "HBoxModel",
      "state": {
       "_dom_classes": [],
       "_model_module": "@jupyter-widgets/controls",
       "_model_module_version": "1.5.0",
       "_model_name": "HBoxModel",
       "_view_count": null,
       "_view_module": "@jupyter-widgets/controls",
       "_view_module_version": "1.5.0",
       "_view_name": "HBoxView",
       "box_style": "",
       "children": [
        "IPY_MODEL_342e882589664d5c916cd567d26f2f89",
        "IPY_MODEL_6c2ef8feb72d4c5890d068501a8b73f0",
        "IPY_MODEL_db491590ae9b452c88140bb2779f8721"
       ],
       "layout": "IPY_MODEL_cc819a53b6da4a77a9bdc1eda4365c56"
      }
     },
     "46cd529ec6c54e6a873794fd720eccc4": {
      "model_module": "@jupyter-widgets/base",
      "model_module_version": "1.2.0",
      "model_name": "LayoutModel",
      "state": {
       "_model_module": "@jupyter-widgets/base",
       "_model_module_version": "1.2.0",
       "_model_name": "LayoutModel",
       "_view_count": null,
       "_view_module": "@jupyter-widgets/base",
       "_view_module_version": "1.2.0",
       "_view_name": "LayoutView",
       "align_content": null,
       "align_items": null,
       "align_self": null,
       "border": null,
       "bottom": null,
       "display": null,
       "flex": null,
       "flex_flow": null,
       "grid_area": null,
       "grid_auto_columns": null,
       "grid_auto_flow": null,
       "grid_auto_rows": null,
       "grid_column": null,
       "grid_gap": null,
       "grid_row": null,
       "grid_template_areas": null,
       "grid_template_columns": null,
       "grid_template_rows": null,
       "height": null,
       "justify_content": null,
       "justify_items": null,
       "left": null,
       "margin": null,
       "max_height": null,
       "max_width": null,
       "min_height": null,
       "min_width": null,
       "object_fit": null,
       "object_position": null,
       "order": null,
       "overflow": null,
       "overflow_x": null,
       "overflow_y": null,
       "padding": null,
       "right": null,
       "top": null,
       "visibility": null,
       "width": null
      }
     },
     "49522755b6b34183b10c80e1fcabf3bf": {
      "model_module": "@jupyter-widgets/base",
      "model_module_version": "1.2.0",
      "model_name": "LayoutModel",
      "state": {
       "_model_module": "@jupyter-widgets/base",
       "_model_module_version": "1.2.0",
       "_model_name": "LayoutModel",
       "_view_count": null,
       "_view_module": "@jupyter-widgets/base",
       "_view_module_version": "1.2.0",
       "_view_name": "LayoutView",
       "align_content": null,
       "align_items": null,
       "align_self": null,
       "border": null,
       "bottom": null,
       "display": null,
       "flex": null,
       "flex_flow": null,
       "grid_area": null,
       "grid_auto_columns": null,
       "grid_auto_flow": null,
       "grid_auto_rows": null,
       "grid_column": null,
       "grid_gap": null,
       "grid_row": null,
       "grid_template_areas": null,
       "grid_template_columns": null,
       "grid_template_rows": null,
       "height": null,
       "justify_content": null,
       "justify_items": null,
       "left": null,
       "margin": null,
       "max_height": null,
       "max_width": null,
       "min_height": null,
       "min_width": null,
       "object_fit": null,
       "object_position": null,
       "order": null,
       "overflow": null,
       "overflow_x": null,
       "overflow_y": null,
       "padding": null,
       "right": null,
       "top": null,
       "visibility": null,
       "width": null
      }
     },
     "684be3e13a534851a1d43000cfbb1612": {
      "model_module": "@jupyter-widgets/base",
      "model_module_version": "1.2.0",
      "model_name": "LayoutModel",
      "state": {
       "_model_module": "@jupyter-widgets/base",
       "_model_module_version": "1.2.0",
       "_model_name": "LayoutModel",
       "_view_count": null,
       "_view_module": "@jupyter-widgets/base",
       "_view_module_version": "1.2.0",
       "_view_name": "LayoutView",
       "align_content": null,
       "align_items": null,
       "align_self": null,
       "border": null,
       "bottom": null,
       "display": null,
       "flex": null,
       "flex_flow": null,
       "grid_area": null,
       "grid_auto_columns": null,
       "grid_auto_flow": null,
       "grid_auto_rows": null,
       "grid_column": null,
       "grid_gap": null,
       "grid_row": null,
       "grid_template_areas": null,
       "grid_template_columns": null,
       "grid_template_rows": null,
       "height": null,
       "justify_content": null,
       "justify_items": null,
       "left": null,
       "margin": null,
       "max_height": null,
       "max_width": null,
       "min_height": null,
       "min_width": null,
       "object_fit": null,
       "object_position": null,
       "order": null,
       "overflow": null,
       "overflow_x": null,
       "overflow_y": null,
       "padding": null,
       "right": null,
       "top": null,
       "visibility": null,
       "width": null
      }
     },
     "6c2ef8feb72d4c5890d068501a8b73f0": {
      "model_module": "@jupyter-widgets/controls",
      "model_module_version": "1.5.0",
      "model_name": "FloatProgressModel",
      "state": {
       "_dom_classes": [],
       "_model_module": "@jupyter-widgets/controls",
       "_model_module_version": "1.5.0",
       "_model_name": "FloatProgressModel",
       "_view_count": null,
       "_view_module": "@jupyter-widgets/controls",
       "_view_module_version": "1.5.0",
       "_view_name": "ProgressView",
       "bar_style": "success",
       "description": "",
       "description_tooltip": null,
       "layout": "IPY_MODEL_49522755b6b34183b10c80e1fcabf3bf",
       "max": 2,
       "min": 0,
       "orientation": "horizontal",
       "style": "IPY_MODEL_0084560d70404935af19a15292ca26e2",
       "value": 2
      }
     },
     "73d46093cd2640309a9d1a0db3cd5d30": {
      "model_module": "@jupyter-widgets/controls",
      "model_module_version": "1.5.0",
      "model_name": "DescriptionStyleModel",
      "state": {
       "_model_module": "@jupyter-widgets/controls",
       "_model_module_version": "1.5.0",
       "_model_name": "DescriptionStyleModel",
       "_view_count": null,
       "_view_module": "@jupyter-widgets/base",
       "_view_module_version": "1.2.0",
       "_view_name": "StyleView",
       "description_width": ""
      }
     },
     "cc819a53b6da4a77a9bdc1eda4365c56": {
      "model_module": "@jupyter-widgets/base",
      "model_module_version": "1.2.0",
      "model_name": "LayoutModel",
      "state": {
       "_model_module": "@jupyter-widgets/base",
       "_model_module_version": "1.2.0",
       "_model_name": "LayoutModel",
       "_view_count": null,
       "_view_module": "@jupyter-widgets/base",
       "_view_module_version": "1.2.0",
       "_view_name": "LayoutView",
       "align_content": null,
       "align_items": null,
       "align_self": null,
       "border": null,
       "bottom": null,
       "display": null,
       "flex": null,
       "flex_flow": null,
       "grid_area": null,
       "grid_auto_columns": null,
       "grid_auto_flow": null,
       "grid_auto_rows": null,
       "grid_column": null,
       "grid_gap": null,
       "grid_row": null,
       "grid_template_areas": null,
       "grid_template_columns": null,
       "grid_template_rows": null,
       "height": null,
       "justify_content": null,
       "justify_items": null,
       "left": null,
       "margin": null,
       "max_height": null,
       "max_width": null,
       "min_height": null,
       "min_width": null,
       "object_fit": null,
       "object_position": null,
       "order": null,
       "overflow": null,
       "overflow_x": null,
       "overflow_y": null,
       "padding": null,
       "right": null,
       "top": null,
       "visibility": null,
       "width": null
      }
     },
     "db491590ae9b452c88140bb2779f8721": {
      "model_module": "@jupyter-widgets/controls",
      "model_module_version": "1.5.0",
      "model_name": "HTMLModel",
      "state": {
       "_dom_classes": [],
       "_model_module": "@jupyter-widgets/controls",
       "_model_module_version": "1.5.0",
       "_model_name": "HTMLModel",
       "_view_count": null,
       "_view_module": "@jupyter-widgets/controls",
       "_view_module_version": "1.5.0",
       "_view_name": "HTMLView",
       "description": "",
       "description_tooltip": null,
       "layout": "IPY_MODEL_684be3e13a534851a1d43000cfbb1612",
       "placeholder": "​",
       "style": "IPY_MODEL_2dbbf411a6e140cca51ba5257b95efab",
       "value": " 2/2 [03:03&lt;00:00, 86.31s/it]"
      }
     }
    },
    "version_major": 2,
    "version_minor": 0
   }
  }
 },
 "nbformat": 4,
 "nbformat_minor": 5
}
